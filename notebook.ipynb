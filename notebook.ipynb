{
 "cells": [
  {
   "cell_type": "markdown",
   "id": "24ee5fb3",
   "metadata": {
    "papermill": {
     "duration": 0.193037,
     "end_time": "2022-08-07T20:42:31.701172",
     "exception": false,
     "start_time": "2022-08-07T20:42:31.508135",
     "status": "completed"
    },
    "tags": []
   },
   "source": [
    "<div style=\"width:100%;text-align: center;\"> <img align=middle src=\"https://i.ibb.co/WthxMzJ/ukraine-VSRussia.webp\" alt=\"Russia VS Ukraine\" style=\"margin-top:3rem;\"> </div>"
   ]
  },
  {
   "cell_type": "markdown",
   "id": "c4d8f80b",
   "metadata": {
    "papermill": {
     "duration": 0.192187,
     "end_time": "2022-08-07T20:42:32.083985",
     "exception": false,
     "start_time": "2022-08-07T20:42:31.891798",
     "status": "completed"
    },
    "tags": []
   },
   "source": [
    "---\n",
    "<div style=\"font-family: Verdana\">\n",
    "    \n",
    "<b>Julian Gabriel Fita</b><br>\n",
    "\n",
    "<i>Update: May 10, 2022</i>\n",
    "    \n",
    "</div>\n",
    "\n",
    "---"
   ]
  },
  {
   "cell_type": "markdown",
   "id": "cbcedfdd",
   "metadata": {
    "papermill": {
     "duration": 0.192522,
     "end_time": "2022-08-07T20:42:32.466785",
     "exception": false,
     "start_time": "2022-08-07T20:42:32.274263",
     "status": "completed"
    },
    "tags": []
   },
   "source": [
    "<h1 style=\"font-family:Verdana; color:#56a0d3\"> <center> Russia VS Ukraine: Analisys in R 📋</center></h1>"
   ]
  },
  {
   "cell_type": "markdown",
   "id": "8136a613",
   "metadata": {
    "papermill": {
     "duration": 0.192175,
     "end_time": "2022-08-07T20:42:32.848159",
     "exception": false,
     "start_time": "2022-08-07T20:42:32.655984",
     "status": "completed"
    },
    "tags": []
   },
   "source": [
    "<div style=\"font-family: Verdana;\">\n",
    "\n",
    "    <h1 style=\"color:#56a0d3\">Table of Contents</h1>\n",
    "\n",
    "    <ul>\n",
    "        <li><a href=\"#information\">Information</a></li>\n",
    "        <ul>\n",
    "            <li><a href=\"#context\">Context</a></li>\n",
    "            <li><a href=\"#metadata\">Metadata</a></li>\n",
    "        </ul>\n",
    "        <li><a href=\"#lostEquipment\">Russia losses Equipment</a></li>\n",
    "        <ul>\n",
    "            <li><a href=\"#annotations\">Annotations</a></li>\n",
    "            <li><a href=\"#cleanLostEquipment\">Clean</a></li>\n",
    "            <li><a href=\"#manipulatingLostEquipment\">Manipulating</a></li>\n",
    "            <li><a href=\"#plotRussiaLossesEquipment\">Plot: Russia Losses Equipment</a></li>\n",
    "            <li><a href=\"#plotRussiaLossesEquipmentDay\">Plot: Russia Losses Equipment by day</a></li>\n",
    "            <li><a href=\"#plotCategoryRussianLostequipment\">Plot: Russian equipment lost by category</a></li>\n",
    "            <li><a href=\"#plotAmountsEquipmentsDay\">Plot: The amounts of equipment lost per day and by category</a></li>\n",
    "            <li><a href=\"#tableAmountsEquipmentsDay\">Table: The amounts of equipment lost per day and by category</a></li>\n",
    "            <li><a href=\"#drilldown\">Drilldown</a></li>\n",
    "            <ul>\n",
    "                <li><a href=\"#plotDrilldown\">Drilldown Plot: Russian lost equipment per day in each category</a></li>\n",
    "            </ul>\n",
    "            <li><a href=\"#correlationMap\">Correlation Map</a></li>\n",
    "        </ul>\n",
    "        <li><a href=\"#russiaLossesPersonnel\">Russia losses Perssonnel</a></li>\n",
    "        <ul>\n",
    "            <li><a href=\"#annotationsRussiaLossesPersonnel\">Annotations</a></li>\n",
    "            <li><a href=\"#plotDeadRussianSoldiers\">Plot: Dead Russian Soldiers</a></li>\n",
    "            <li><a href=\"#annotationsRussiaLossesPersonnelDay\">Plot: Dead Russian Soldiers by day</a></li>\n",
    "            <li><a href=\"#plotPOW\">Plot: POW</a></li>\n",
    "            <li><a href=\"#plotPOWDay\">Plot: POW by day</a></li>\n",
    "            <li><a href=\"#tableMinMax\">Table: Min and Max values</a></li>\n",
    "        </ul>\n",
    "    </ul>\n",
    "    \n",
    "</div>  "
   ]
  },
  {
   "cell_type": "markdown",
   "id": "ba40775c",
   "metadata": {
    "papermill": {
     "duration": 0.193755,
     "end_time": "2022-08-07T20:42:33.232267",
     "exception": false,
     "start_time": "2022-08-07T20:42:33.038512",
     "status": "completed"
    },
    "tags": []
   },
   "source": [
    "<a id=\"information\"></a>\n",
    "\n",
    "<h1 style=\"font-family:Verdana; color:#56a0d3\">Information</h1>"
   ]
  },
  {
   "cell_type": "markdown",
   "id": "ecddbb58",
   "metadata": {
    "papermill": {
     "duration": 0.190186,
     "end_time": "2022-08-07T20:42:33.612265",
     "exception": false,
     "start_time": "2022-08-07T20:42:33.422079",
     "status": "completed"
    },
    "tags": []
   },
   "source": [
    "<a id=\"context\"></a>\n",
    "\n",
    "<h2 style=\"font-family:Verdana; color:#56a0d3\">Context</h2>\n",
    "\n",
    "<p style=\"font-family:Verdana;\">\n",
    "At approximately 5 a.m. on Thursday, Russia began air strikes against Ukraine, launching an unprovoked attack on its neighbor. <em>“We looked at our phones in silence and tracked all the places where the bombs and missiles were landing,”</em> <a href=\"https://www.newyorker.com/news/dispatch/a-sleepless-night-of-russian-air-strikes-in-ukraine\">Joshua Yaffa, reporting from the city of Kramatorsk</a>, wrote. <em>“Not just in Kramatorsk . . . but in Dnipro, Kharkiv, Mariupol, Odessa, Kyiv.”</em> By daybreak, Yaffa noted, the streets <em>“had a frenetic, confused energy, but also one tinged with a kind of helpless normalcy. Not everyone has a place to flee; not everyone, having survived one war, is ready to flee again.”</em> Vladimir Putin, meanwhile, had given an address, couching <em>“the invasion as a ‘special military operation,’ seemingly unable to bring himself to say aloud that he was, in fact, starting a war.”</em>\n",
    "<br>\n",
    "<br>\n",
    "The lives of Ukrainians have long been shaped by impermanence and war. One resident of the border city Kharkiv told Gessen, <em>“It’s like we are living temporary lives.”</em> Many residents have felt that <em>“their national identity as Ukrainians has been fortified over the last eight years, both by the threat of war and the solidarity that Ukrainians have forged and observed in the face of it.”</em> As Gessen wrote this week, <em>“What Putin does not imagine is the kind and scale of resistance that he would actually encounter in Ukraine. . . . When Putin encounters Ukrainian resistance, he will respond the only way he knows: with devastating force. The loss of life will be staggering.”</em>\n",
    "</p>\n",
    "<cite> Source: https://www.newyorker.com/</cite>"
   ]
  },
  {
   "cell_type": "markdown",
   "id": "51443a6f",
   "metadata": {
    "papermill": {
     "duration": 0.192786,
     "end_time": "2022-08-07T20:42:33.993508",
     "exception": false,
     "start_time": "2022-08-07T20:42:33.800722",
     "status": "completed"
    },
    "tags": []
   },
   "source": [
    "<a id=\"metadata\"></a>\n",
    "\n",
    "<div style=\"font-family:Verdana;\">\n",
    "    <h2 style=\"color:#56a0d3\">Metadata</h2>\n",
    "\n",
    "    <ul style=\"font-family: Verdana;\">\n",
    "        <li><b>Armored Personnel Carrier:</b> <em>is a broad type of armored military vehicle designed to transport personnel and equipment in combat zones.</em></li>    \n",
    "        <li><b>Multiple Rocket Launcher:</b> <em>is a type of rocket artillery system that contains multiple launchers which are fixed to a single platform, and shoots its rocket ordnance in a fashion similar to a volley gun,</em></li>    \n",
    "        <li><b>Aircraft:</b>  <em>is a vehicle which can fly,</em></li>    \n",
    "        <li><b>Anti-aircraft warfare:</b> <em>is any way of fighting military aircraft in combat from the ground,</em></li>    \n",
    "        <li><b>Drone:</b> <em>is an aircraft without any human pilot, crew, or passengers on board,</em></li>    \n",
    "        <li><b>Field Artillery:</b> <em>is a category of mobile artillery used to support armies in the field,</em></li>    \n",
    "        <li><b>Fuel Tank:</b> <em>is a safe container for flammable fluids,</em></li>    \n",
    "        <li><b>Helicopter:</b> <em>is a type of rotorcraft in which lift and thrust are supplied by horizontally spinning rotors,</em></li>    \n",
    "        <li><b>Military Auto:</b> <em>is any vehicle for land-based military transport and activity, including combat vehicles,</em></li>    \n",
    "        <li><b>Naval Ship</b>: <em>is a military ship (or sometimes boat, depending on classification) used by a navy. Naval ships are differentiated from civilian ships by construction and purpose. Generally, naval ships are damage resilient and armed with weapon systems, though armament on troop transports is light or non-existent,</em></li>    \n",
    "        <li><b>Tank:</b> <em>is an armoured fighting vehicle intended as a primary offensive weapon in front-line ground combat,</em></li>    \n",
    "        <li><b>Special equipment:</b> <em>means weapons, arms, military supplies, and equipment that readily may be used for military purposes, including, but not limited to, radar systems or military-grade transport vehicles,</em></li>    \n",
    "        <li><b>Mobile Short-range ballistic missile:</b> <em>is a ballistic missile with a range of about 1,000 kilometres (620 mi) or less,</em></li>\n",
    "        <li><b>Personnel:</b> <em>russian soldiers,</em></li>\n",
    "        <li><b>Prisoner of War:</b> <em>russian soldier who is held captive immediately after an armed conflict.</em></li>    \n",
    "    </ul>\n",
    "\n",
    "    <h2 style=\"font-family:Verdana; color:#56a0d3\">Acronyms</h2>\n",
    "\n",
    "    <ul style=\"font-family: Verdana;\">\n",
    "        <li><b>APC</b> - <em>Armored Personnel Carrier,</em></li>\n",
    "        <li><b>Drones: UAV</b> - <em>Unmanned Aerial Vehicle, RPA - Remotely Piloted Vehicle,</em></li> \n",
    "        <li><b>MRL</b> - <em>Multiple Rocket Launcher,</em></li> \n",
    "        <li><b>POW</b>- <em>Prisoner of War,</em></li> \n",
    "        <li><b>SRBM</b> - <em>Short-range ballistic missile.</em></li>    \n",
    "    </ul>\n",
    "</div>\n",
    "                                     \n",
    "***"
   ]
  },
  {
   "cell_type": "markdown",
   "id": "4fced146",
   "metadata": {
    "papermill": {
     "duration": 0.191789,
     "end_time": "2022-08-07T20:42:34.376477",
     "exception": false,
     "start_time": "2022-08-07T20:42:34.184688",
     "status": "completed"
    },
    "tags": []
   },
   "source": [
    "<h2 style=\"font-family:Verdana; color:#56a0d3\">Explore Data</h2>"
   ]
  },
  {
   "cell_type": "markdown",
   "id": "e5080978",
   "metadata": {
    "papermill": {
     "duration": 0.192002,
     "end_time": "2022-08-07T20:42:34.760409",
     "exception": false,
     "start_time": "2022-08-07T20:42:34.568407",
     "status": "completed"
    },
    "tags": []
   },
   "source": [
    "<h2 style=\"font-family: Verdana; color:#56a0d3\"> Load Packages</h2>"
   ]
  },
  {
   "cell_type": "code",
   "execution_count": 1,
   "id": "6b498519",
   "metadata": {
    "_kg_hide-output": true,
    "execution": {
     "iopub.execute_input": "2022-08-07T20:42:35.153170Z",
     "iopub.status.busy": "2022-08-07T20:42:35.150105Z",
     "iopub.status.idle": "2022-08-07T20:42:36.973218Z",
     "shell.execute_reply": "2022-08-07T20:42:36.972053Z"
    },
    "papermill": {
     "duration": 2.022101,
     "end_time": "2022-08-07T20:42:36.973392",
     "exception": false,
     "start_time": "2022-08-07T20:42:34.951291",
     "status": "completed"
    },
    "tags": []
   },
   "outputs": [
    {
     "name": "stderr",
     "output_type": "stream",
     "text": [
      "── \u001b[1mAttaching packages\u001b[22m ─────────────────────────────────────── tidyverse 1.3.1 ──\n",
      "\n",
      "\u001b[32m✔\u001b[39m \u001b[34mggplot2\u001b[39m 3.3.5     \u001b[32m✔\u001b[39m \u001b[34mpurrr  \u001b[39m 0.3.4\n",
      "\u001b[32m✔\u001b[39m \u001b[34mtibble \u001b[39m 3.1.5     \u001b[32m✔\u001b[39m \u001b[34mdplyr  \u001b[39m 1.0.7\n",
      "\u001b[32m✔\u001b[39m \u001b[34mtidyr  \u001b[39m 1.1.4     \u001b[32m✔\u001b[39m \u001b[34mstringr\u001b[39m 1.4.0\n",
      "\u001b[32m✔\u001b[39m \u001b[34mreadr  \u001b[39m 2.0.2     \u001b[32m✔\u001b[39m \u001b[34mforcats\u001b[39m 0.5.1\n",
      "\n",
      "── \u001b[1mConflicts\u001b[22m ────────────────────────────────────────── tidyverse_conflicts() ──\n",
      "\u001b[31m✖\u001b[39m \u001b[34mdplyr\u001b[39m::\u001b[32mfilter()\u001b[39m masks \u001b[34mstats\u001b[39m::filter()\n",
      "\u001b[31m✖\u001b[39m \u001b[34mdplyr\u001b[39m::\u001b[32mlag()\u001b[39m    masks \u001b[34mstats\u001b[39m::lag()\n",
      "\n",
      "\n",
      "Attaching package: ‘janitor’\n",
      "\n",
      "\n",
      "The following objects are masked from ‘package:stats’:\n",
      "\n",
      "    chisq.test, fisher.test\n",
      "\n",
      "\n",
      "\n",
      "Attaching package: ‘lubridate’\n",
      "\n",
      "\n",
      "The following objects are masked from ‘package:base’:\n",
      "\n",
      "    date, intersect, setdiff, union\n",
      "\n",
      "\n",
      "Registered S3 method overwritten by 'quantmod':\n",
      "  method            from\n",
      "  as.zoo.data.frame zoo \n",
      "\n"
     ]
    }
   ],
   "source": [
    "# Load packages\n",
    "library(tidyverse)\n",
    "library(janitor)\n",
    "library(lubridate)\n",
    "library(highcharter)"
   ]
  },
  {
   "cell_type": "markdown",
   "id": "c351a32f",
   "metadata": {
    "papermill": {
     "duration": 0.196515,
     "end_time": "2022-08-07T20:42:37.371981",
     "exception": false,
     "start_time": "2022-08-07T20:42:37.175466",
     "status": "completed"
    },
    "tags": []
   },
   "source": [
    "<h2 style=\"font-family: Verdana; color:#56a0d3\"> Load Datasets</h2>"
   ]
  },
  {
   "cell_type": "code",
   "execution_count": 2,
   "id": "b2f4cb5d",
   "metadata": {
    "execution": {
     "iopub.execute_input": "2022-08-07T20:42:37.831981Z",
     "iopub.status.busy": "2022-08-07T20:42:37.801650Z",
     "iopub.status.idle": "2022-08-07T20:42:37.858492Z",
     "shell.execute_reply": "2022-08-07T20:42:37.857132Z"
    },
    "papermill": {
     "duration": 0.273594,
     "end_time": "2022-08-07T20:42:37.858662",
     "exception": false,
     "start_time": "2022-08-07T20:42:37.585068",
     "status": "completed"
    },
    "tags": []
   },
   "outputs": [],
   "source": [
    "# Load datasets\n",
    "russiaLossesEquipment <- read.csv('../input/2022-ukraine-russian-war/russia_losses_equipment.csv')\n",
    "russiaLossesPersonnel <- read.csv('../input/2022-ukraine-russian-war/russia_losses_personnel.csv')"
   ]
  },
  {
   "cell_type": "markdown",
   "id": "08733111",
   "metadata": {
    "papermill": {
     "duration": 0.196663,
     "end_time": "2022-08-07T20:42:38.255471",
     "exception": false,
     "start_time": "2022-08-07T20:42:38.058808",
     "status": "completed"
    },
    "tags": []
   },
   "source": [
    "<a id=\"lostEquipment\"></a>\n",
    "\n",
    "<h2 style=\"font-family:Verdana; color:#56a0d3\">'Russia Losses Equipment'</h2>"
   ]
  },
  {
   "cell_type": "code",
   "execution_count": 3,
   "id": "ab3aa46f",
   "metadata": {
    "execution": {
     "iopub.execute_input": "2022-08-07T20:42:38.655353Z",
     "iopub.status.busy": "2022-08-07T20:42:38.653216Z",
     "iopub.status.idle": "2022-08-07T20:42:38.685248Z",
     "shell.execute_reply": "2022-08-07T20:42:38.683934Z"
    },
    "papermill": {
     "duration": 0.233117,
     "end_time": "2022-08-07T20:42:38.685445",
     "exception": false,
     "start_time": "2022-08-07T20:42:38.452328",
     "status": "completed"
    },
    "tags": []
   },
   "outputs": [
    {
     "name": "stdout",
     "output_type": "stream",
     "text": [
      "Rows: 164\n",
      "Columns: 18\n",
      "$ date                      \u001b[3m\u001b[90m<chr>\u001b[39m\u001b[23m \"2022-02-25\", \"2022-02-26\", \"2022-02-27\", \"2…\n",
      "$ day                       \u001b[3m\u001b[90m<int>\u001b[39m\u001b[23m 2, 3, 4, 5, 6, 7, 8, 9, 10, 11, 12, 13, 14, …\n",
      "$ aircraft                  \u001b[3m\u001b[90m<int>\u001b[39m\u001b[23m 10, 27, 27, 29, 29, 30, 30, 33, 39, 44, 46, …\n",
      "$ helicopter                \u001b[3m\u001b[90m<int>\u001b[39m\u001b[23m 7, 26, 26, 29, 29, 31, 31, 37, 40, 48, 68, 8…\n",
      "$ tank                      \u001b[3m\u001b[90m<int>\u001b[39m\u001b[23m 80, 146, 150, 150, 198, 211, 217, 251, 269, …\n",
      "$ APC                       \u001b[3m\u001b[90m<int>\u001b[39m\u001b[23m 516, 706, 706, 816, 846, 862, 900, 939, 945,…\n",
      "$ field.artillery           \u001b[3m\u001b[90m<int>\u001b[39m\u001b[23m 49, 49, 50, 74, 77, 85, 90, 105, 105, 109, 1…\n",
      "$ MRL                       \u001b[3m\u001b[90m<int>\u001b[39m\u001b[23m 4, 4, 4, 21, 24, 40, 42, 50, 50, 50, 50, 56,…\n",
      "$ military.auto             \u001b[3m\u001b[90m<dbl>\u001b[39m\u001b[23m 100, 130, 130, 291, 305, 355, 374, 404, 409,…\n",
      "$ fuel.tank                 \u001b[3m\u001b[90m<dbl>\u001b[39m\u001b[23m 60, 60, 60, 60, 60, 60, 60, 60, 60, 60, 60, …\n",
      "$ drone                     \u001b[3m\u001b[90m<int>\u001b[39m\u001b[23m 0, 2, 2, 3, 3, 3, 3, 3, 3, 4, 7, 7, 7, 7, 7,…\n",
      "$ naval.ship                \u001b[3m\u001b[90m<int>\u001b[39m\u001b[23m 2, 2, 2, 2, 2, 2, 2, 2, 2, 2, 3, 3, 3, 3, 3,…\n",
      "$ anti.aircraft.warfare     \u001b[3m\u001b[90m<int>\u001b[39m\u001b[23m 0, 0, 0, 5, 7, 9, 11, 18, 19, 21, 23, 27, 28…\n",
      "$ special.equipment         \u001b[3m\u001b[90m<dbl>\u001b[39m\u001b[23m NA, NA, NA, NA, NA, NA, NA, NA, NA, NA, NA, …\n",
      "$ mobile.SRBM.system        \u001b[3m\u001b[90m<dbl>\u001b[39m\u001b[23m NA, NA, NA, NA, NA, NA, NA, NA, NA, NA, NA, …\n",
      "$ greatest.losses.direction \u001b[3m\u001b[90m<chr>\u001b[39m\u001b[23m \"\", \"\", \"\", \"\", \"\", \"\", \"\", \"\", \"\", \"\", \"\", …\n",
      "$ vehicles.and.fuel.tanks   \u001b[3m\u001b[90m<dbl>\u001b[39m\u001b[23m NA, NA, NA, NA, NA, NA, NA, NA, NA, NA, NA, …\n",
      "$ cruise.missiles           \u001b[3m\u001b[90m<dbl>\u001b[39m\u001b[23m NA, NA, NA, NA, NA, NA, NA, NA, NA, NA, NA, …\n"
     ]
    }
   ],
   "source": [
    "# Let's take a look at the dataset\n",
    "glimpse(russiaLossesEquipment)"
   ]
  },
  {
   "cell_type": "code",
   "execution_count": 4,
   "id": "6104682b",
   "metadata": {
    "execution": {
     "iopub.execute_input": "2022-08-07T20:42:39.093161Z",
     "iopub.status.busy": "2022-08-07T20:42:39.090788Z",
     "iopub.status.idle": "2022-08-07T20:42:39.128357Z",
     "shell.execute_reply": "2022-08-07T20:42:39.127488Z"
    },
    "papermill": {
     "duration": 0.246212,
     "end_time": "2022-08-07T20:42:39.128537",
     "exception": false,
     "start_time": "2022-08-07T20:42:38.882325",
     "status": "completed"
    },
    "tags": []
   },
   "outputs": [
    {
     "data": {
      "text/plain": [
       "     date                day            aircraft       helicopter   \n",
       " Length:164         Min.   :  2.00   Min.   : 10.0   Min.   :  7.0  \n",
       " Class :character   1st Qu.: 42.75   1st Qu.:150.0   1st Qu.:135.0  \n",
       " Mode  :character   Median : 83.50   Median :201.5   Median :167.0  \n",
       "                    Mean   : 83.50   Mean   :173.8   Mean   :152.3  \n",
       "                    3rd Qu.:124.25   3rd Qu.:217.0   3rd Qu.:184.2  \n",
       "                    Max.   :165.00   Max.   :223.0   Max.   :191.0  \n",
       "                                                                    \n",
       "      tank             APC       field.artillery      MRL        military.auto \n",
       " Min.   :  80.0   Min.   : 516   Min.   : 49.0   Min.   :  4.0   Min.   : 100  \n",
       " 1st Qu.: 694.5   1st Qu.:1884   1st Qu.:332.0   1st Qu.:107.8   1st Qu.: 600  \n",
       " Median :1243.0   Median :3026   Median :582.0   Median :198.5   Median :1178  \n",
       " Mean   :1113.6   Mean   :2749   Mean   :545.0   Mean   :171.8   Mean   :1048  \n",
       " 3rd Qu.:1555.8   3rd Qu.:3691   3rd Qu.:772.8   3rd Qu.:243.0   3rd Qu.:1437  \n",
       " Max.   :1805.0   Max.   :4055   Max.   :958.0   Max.   :260.0   Max.   :1701  \n",
       "                                                                 NA's   :99    \n",
       "   fuel.tank         drone         naval.ship    anti.aircraft.warfare\n",
       " Min.   :60.00   Min.   :  0.0   Min.   : 2.00   Min.   :  0.00       \n",
       " 1st Qu.:60.00   1st Qu.:107.2   1st Qu.: 7.00   1st Qu.: 55.00       \n",
       " Median :73.00   Median :438.5   Median :13.00   Median : 90.50       \n",
       " Mean   :69.32   Mean   :379.8   Mean   :10.35   Mean   : 79.25       \n",
       " 3rd Qu.:76.00   3rd Qu.:636.0   3rd Qu.:14.00   3rd Qu.:101.25       \n",
       " Max.   :76.00   Max.   :750.0   Max.   :15.00   Max.   :132.00       \n",
       " NA's   :99                                                           \n",
       " special.equipment mobile.SRBM.system greatest.losses.direction\n",
       " Min.   :10.00     Min.   :2.000      Length:164               \n",
       " 1st Qu.:27.00     1st Qu.:4.000      Class :character         \n",
       " Median :48.00     Median :4.000      Mode  :character         \n",
       " Mean   :46.62     Mean   :3.944                               \n",
       " 3rd Qu.:61.00     3rd Qu.:4.000                               \n",
       " Max.   :86.00     Max.   :4.000                               \n",
       " NA's   :19        NA's   :128                                 \n",
       " vehicles.and.fuel.tanks cruise.missiles\n",
       " Min.   :1796            Min.   : 84.0  \n",
       " 1st Qu.:2221            1st Qu.:113.0  \n",
       " Median :2523            Median :130.0  \n",
       " Mean   :2467            Mean   :133.7  \n",
       " 3rd Qu.:2712            3rd Qu.:155.0  \n",
       " Max.   :2978            Max.   :182.0  \n",
       " NA's   :65              NA's   :65     "
      ]
     },
     "metadata": {},
     "output_type": "display_data"
    }
   ],
   "source": [
    "##Summary\n",
    "summary(russiaLossesEquipment)"
   ]
  },
  {
   "cell_type": "markdown",
   "id": "54aa8b5a",
   "metadata": {
    "papermill": {
     "duration": 0.241392,
     "end_time": "2022-08-07T20:42:39.584861",
     "exception": false,
     "start_time": "2022-08-07T20:42:39.343469",
     "status": "completed"
    },
    "tags": []
   },
   "source": [
    "<a id=\"annotations\"></a>\n",
    "\n",
    "<div style=\"font-family: Verdana;\">\n",
    "    <h2 style=\"color:#56a0d3\">Annotations</h2>   \n",
    "    <strong>In russiaLossesEquipment's dataset:</strong>\n",
    "    \n",
    "    <ul>\n",
    "        <li>Modify in <code>date</code> column the format type (chr -> date),</li>\n",
    "    \n",
    "        <li>'Clean' column's name,</li>\n",
    "    \n",
    "        <li>Add a new column with the differences of the losses of the previous day with the current date,</li>\n",
    "    \n",
    "        <li>A lots of NAs values in <code>special.equipment</code> and <code>mobile.srbm.system</code> columns.</li>\n",
    "    </ul>\n",
    "</div> "
   ]
  },
  {
   "cell_type": "markdown",
   "id": "c94b1d7a",
   "metadata": {
    "papermill": {
     "duration": 0.205706,
     "end_time": "2022-08-07T20:42:39.997555",
     "exception": false,
     "start_time": "2022-08-07T20:42:39.791849",
     "status": "completed"
    },
    "tags": []
   },
   "source": [
    "<a id=\"cleanLostEquipment\"></a>\n",
    "\n",
    "<h2 style=\"font-family: Verdana; color:#56a0d3\">Clean</h2>"
   ]
  },
  {
   "cell_type": "markdown",
   "id": "8e648d58",
   "metadata": {
    "papermill": {
     "duration": 0.201998,
     "end_time": "2022-08-07T20:42:40.400863",
     "exception": false,
     "start_time": "2022-08-07T20:42:40.198865",
     "status": "completed"
    },
    "tags": []
   },
   "source": [
    "<h3 style=\"font-family: Verdana;\">> Clean columns names</h3>"
   ]
  },
  {
   "cell_type": "markdown",
   "id": "ff9755ac",
   "metadata": {
    "papermill": {
     "duration": 0.199807,
     "end_time": "2022-08-07T20:42:40.800834",
     "exception": false,
     "start_time": "2022-08-07T20:42:40.601027",
     "status": "completed"
    },
    "tags": []
   },
   "source": []
  },
  {
   "cell_type": "code",
   "execution_count": 5,
   "id": "86ec00d2",
   "metadata": {
    "execution": {
     "iopub.execute_input": "2022-08-07T20:42:41.209184Z",
     "iopub.status.busy": "2022-08-07T20:42:41.207128Z",
     "iopub.status.idle": "2022-08-07T20:42:41.326545Z",
     "shell.execute_reply": "2022-08-07T20:42:41.325343Z"
    },
    "papermill": {
     "duration": 0.325066,
     "end_time": "2022-08-07T20:42:41.326740",
     "exception": false,
     "start_time": "2022-08-07T20:42:41.001674",
     "status": "completed"
    },
    "tags": []
   },
   "outputs": [],
   "source": [
    "# Clean columns names\n",
    "russiaLossesEquipment.clean <- russiaLossesEquipment %>%\n",
    "  clean_names()"
   ]
  },
  {
   "cell_type": "code",
   "execution_count": 6,
   "id": "e0d4051b",
   "metadata": {
    "execution": {
     "iopub.execute_input": "2022-08-07T20:42:41.731389Z",
     "iopub.status.busy": "2022-08-07T20:42:41.729994Z",
     "iopub.status.idle": "2022-08-07T20:42:41.753261Z",
     "shell.execute_reply": "2022-08-07T20:42:41.751277Z"
    },
    "papermill": {
     "duration": 0.226274,
     "end_time": "2022-08-07T20:42:41.753420",
     "exception": false,
     "start_time": "2022-08-07T20:42:41.527146",
     "status": "completed"
    },
    "tags": []
   },
   "outputs": [
    {
     "name": "stdout",
     "output_type": "stream",
     "text": [
      "Rows: 164\n",
      "Columns: 18\n",
      "$ date                      \u001b[3m\u001b[90m<chr>\u001b[39m\u001b[23m \"2022-02-25\", \"2022-02-26\", \"2022-02-27\", \"2…\n",
      "$ day                       \u001b[3m\u001b[90m<int>\u001b[39m\u001b[23m 2, 3, 4, 5, 6, 7, 8, 9, 10, 11, 12, 13, 14, …\n",
      "$ aircraft                  \u001b[3m\u001b[90m<int>\u001b[39m\u001b[23m 10, 27, 27, 29, 29, 30, 30, 33, 39, 44, 46, …\n",
      "$ helicopter                \u001b[3m\u001b[90m<int>\u001b[39m\u001b[23m 7, 26, 26, 29, 29, 31, 31, 37, 40, 48, 68, 8…\n",
      "$ tank                      \u001b[3m\u001b[90m<int>\u001b[39m\u001b[23m 80, 146, 150, 150, 198, 211, 217, 251, 269, …\n",
      "$ apc                       \u001b[3m\u001b[90m<int>\u001b[39m\u001b[23m 516, 706, 706, 816, 846, 862, 900, 939, 945,…\n",
      "$ field_artillery           \u001b[3m\u001b[90m<int>\u001b[39m\u001b[23m 49, 49, 50, 74, 77, 85, 90, 105, 105, 109, 1…\n",
      "$ mrl                       \u001b[3m\u001b[90m<int>\u001b[39m\u001b[23m 4, 4, 4, 21, 24, 40, 42, 50, 50, 50, 50, 56,…\n",
      "$ military_auto             \u001b[3m\u001b[90m<dbl>\u001b[39m\u001b[23m 100, 130, 130, 291, 305, 355, 374, 404, 409,…\n",
      "$ fuel_tank                 \u001b[3m\u001b[90m<dbl>\u001b[39m\u001b[23m 60, 60, 60, 60, 60, 60, 60, 60, 60, 60, 60, …\n",
      "$ drone                     \u001b[3m\u001b[90m<int>\u001b[39m\u001b[23m 0, 2, 2, 3, 3, 3, 3, 3, 3, 4, 7, 7, 7, 7, 7,…\n",
      "$ naval_ship                \u001b[3m\u001b[90m<int>\u001b[39m\u001b[23m 2, 2, 2, 2, 2, 2, 2, 2, 2, 2, 3, 3, 3, 3, 3,…\n",
      "$ anti_aircraft_warfare     \u001b[3m\u001b[90m<int>\u001b[39m\u001b[23m 0, 0, 0, 5, 7, 9, 11, 18, 19, 21, 23, 27, 28…\n",
      "$ special_equipment         \u001b[3m\u001b[90m<dbl>\u001b[39m\u001b[23m NA, NA, NA, NA, NA, NA, NA, NA, NA, NA, NA, …\n",
      "$ mobile_srbm_system        \u001b[3m\u001b[90m<dbl>\u001b[39m\u001b[23m NA, NA, NA, NA, NA, NA, NA, NA, NA, NA, NA, …\n",
      "$ greatest_losses_direction \u001b[3m\u001b[90m<chr>\u001b[39m\u001b[23m \"\", \"\", \"\", \"\", \"\", \"\", \"\", \"\", \"\", \"\", \"\", …\n",
      "$ vehicles_and_fuel_tanks   \u001b[3m\u001b[90m<dbl>\u001b[39m\u001b[23m NA, NA, NA, NA, NA, NA, NA, NA, NA, NA, NA, …\n",
      "$ cruise_missiles           \u001b[3m\u001b[90m<dbl>\u001b[39m\u001b[23m NA, NA, NA, NA, NA, NA, NA, NA, NA, NA, NA, …\n"
     ]
    }
   ],
   "source": [
    "# Let's take a look at the clean names dataset\n",
    "glimpse(russiaLossesEquipment.clean)"
   ]
  },
  {
   "cell_type": "markdown",
   "id": "bc0c49f0",
   "metadata": {
    "papermill": {
     "duration": 0.203811,
     "end_time": "2022-08-07T20:42:42.157966",
     "exception": false,
     "start_time": "2022-08-07T20:42:41.954155",
     "status": "completed"
    },
    "tags": []
   },
   "source": [
    "<h3 style=\"font-family: Verdana;\">> Formmating type of 'date' column</h3>"
   ]
  },
  {
   "cell_type": "code",
   "execution_count": 7,
   "id": "f60089d2",
   "metadata": {
    "execution": {
     "iopub.execute_input": "2022-08-07T20:42:42.565819Z",
     "iopub.status.busy": "2022-08-07T20:42:42.563648Z",
     "iopub.status.idle": "2022-08-07T20:42:42.598227Z",
     "shell.execute_reply": "2022-08-07T20:42:42.596494Z"
    },
    "papermill": {
     "duration": 0.239605,
     "end_time": "2022-08-07T20:42:42.598394",
     "exception": false,
     "start_time": "2022-08-07T20:42:42.358789",
     "status": "completed"
    },
    "tags": []
   },
   "outputs": [],
   "source": [
    "# Correct formatting type of date column\n",
    "russiaLossesEquipment.clean <- russiaLossesEquipment.clean %>%\n",
    "  mutate(date = ymd(date))"
   ]
  },
  {
   "cell_type": "markdown",
   "id": "6cf8a79e",
   "metadata": {
    "papermill": {
     "duration": 0.199316,
     "end_time": "2022-08-07T20:42:42.995986",
     "exception": false,
     "start_time": "2022-08-07T20:42:42.796670",
     "status": "completed"
    },
    "tags": []
   },
   "source": [
    "<a id=\"manipulatingLostEquipment\"></a>\n",
    "\n",
    "<h2 style=\"font-family: Verdana; color:#56a0d3\">Manipulating</h2>"
   ]
  },
  {
   "cell_type": "markdown",
   "id": "ed256d5e",
   "metadata": {
    "papermill": {
     "duration": 0.201355,
     "end_time": "2022-08-07T20:42:43.398387",
     "exception": false,
     "start_time": "2022-08-07T20:42:43.197032",
     "status": "completed"
    },
    "tags": []
   },
   "source": [
    "<h3 style=\"font-family: Verdana;\">> Add new column</h3>"
   ]
  },
  {
   "cell_type": "code",
   "execution_count": 8,
   "id": "0e62fd2e",
   "metadata": {
    "_kg_hide-input": true,
    "execution": {
     "iopub.execute_input": "2022-08-07T20:42:43.806179Z",
     "iopub.status.busy": "2022-08-07T20:42:43.803834Z",
     "iopub.status.idle": "2022-08-07T20:42:43.830056Z",
     "shell.execute_reply": "2022-08-07T20:42:43.828003Z"
    },
    "papermill": {
     "duration": 0.232054,
     "end_time": "2022-08-07T20:42:43.830257",
     "exception": false,
     "start_time": "2022-08-07T20:42:43.598203",
     "status": "completed"
    },
    "tags": []
   },
   "outputs": [],
   "source": [
    "# Add a new column with the differences of the losses of the previous day with the current date.\n",
    "russiaLossesEquipment.clean <- russiaLossesEquipment.clean %>%\n",
    "  mutate(aircraft_difference = aircraft - lag(aircraft, \n",
    "                                              default = first(aircraft)),\n",
    "         helicopter_difference = helicopter - lag(helicopter,\n",
    "                                                  default = first(helicopter)),\n",
    "         tank_difference = tank - lag(tank,\n",
    "                                      default = first(tank)),\n",
    "         apc_difference = apc - lag(apc,\n",
    "                                    default = first(apc)),\n",
    "         field_artillery_difference = field_artillery - lag(field_artillery,\n",
    "                                                            default = first(field_artillery)),\n",
    "         mrl_difference = mrl - lag(mrl,\n",
    "                                    default = first(mrl)),\n",
    "         military_auto_difference = military_auto - lag(military_auto,\n",
    "                                                        default = first(military_auto)),\n",
    "         fuel_tank_difference = fuel_tank - lag(fuel_tank,\n",
    "                                                        default = first(fuel_tank)),\n",
    "         drone_difference = drone - lag(drone,\n",
    "                                        default = first(drone)),\n",
    "         naval_ship_difference = naval_ship - lag(naval_ship,\n",
    "                                                  default = first(naval_ship)),\n",
    "         anti_aircraft_warfare_difference = anti_aircraft_warfare - lag(anti_aircraft_warfare,\n",
    "                                                                        default = first(anti_aircraft_warfare)),\n",
    "         special_equipment_difference = special_equipment - lag(special_equipment,\n",
    "                                                                default = first(special_equipment)),\n",
    "         mobile_srbm_system_difference = mobile_srbm_system - lag(mobile_srbm_system,\n",
    "                                                                  default = first(mobile_srbm_system)))"
   ]
  },
  {
   "cell_type": "code",
   "execution_count": 9,
   "id": "a76f7e76",
   "metadata": {
    "_kg_hide-input": true,
    "execution": {
     "iopub.execute_input": "2022-08-07T20:42:44.240763Z",
     "iopub.status.busy": "2022-08-07T20:42:44.239352Z",
     "iopub.status.idle": "2022-08-07T20:42:44.273425Z",
     "shell.execute_reply": "2022-08-07T20:42:44.272134Z"
    },
    "papermill": {
     "duration": 0.241476,
     "end_time": "2022-08-07T20:42:44.273591",
     "exception": false,
     "start_time": "2022-08-07T20:42:44.032115",
     "status": "completed"
    },
    "tags": []
   },
   "outputs": [],
   "source": [
    "# Order columns\n",
    "russiaLossesEquipment.clean <- russiaLossesEquipment.clean %>%\n",
    "  select(date,\n",
    "         day,\n",
    "         aircraft,\n",
    "         aircraft_difference,\n",
    "         helicopter,\n",
    "         helicopter_difference,\n",
    "         tank,\n",
    "         tank_difference,\n",
    "         apc,\n",
    "         apc_difference,\n",
    "         field_artillery,\n",
    "         field_artillery_difference,\n",
    "         mrl,\n",
    "         mrl_difference,\n",
    "         military_auto,\n",
    "         military_auto_difference,\n",
    "         fuel_tank,\n",
    "         fuel_tank_difference,\n",
    "         drone,\n",
    "         drone_difference,\n",
    "         naval_ship,\n",
    "         naval_ship_difference,\n",
    "         anti_aircraft_warfare,\n",
    "         anti_aircraft_warfare_difference,\n",
    "         special_equipment,\n",
    "         special_equipment_difference,\n",
    "         mobile_srbm_system,\n",
    "         mobile_srbm_system_difference)"
   ]
  },
  {
   "cell_type": "markdown",
   "id": "60852693",
   "metadata": {
    "papermill": {
     "duration": 0.201348,
     "end_time": "2022-08-07T20:42:44.676058",
     "exception": false,
     "start_time": "2022-08-07T20:42:44.474710",
     "status": "completed"
    },
    "tags": []
   },
   "source": [
    "<a id=\"plotRussiaLossesEquipment\"></a>\n",
    "\n",
    "<h2 style=\"font-family: Verdana; color:#56a0d3\">Plot: Russia Losses Equipment</h2>"
   ]
  },
  {
   "cell_type": "code",
   "execution_count": 10,
   "id": "396b5b10",
   "metadata": {
    "_kg_hide-input": true,
    "execution": {
     "iopub.execute_input": "2022-08-07T20:42:45.084479Z",
     "iopub.status.busy": "2022-08-07T20:42:45.082311Z",
     "iopub.status.idle": "2022-08-07T20:42:46.396101Z",
     "shell.execute_reply": "2022-08-07T20:42:46.394556Z"
    },
    "papermill": {
     "duration": 1.52062,
     "end_time": "2022-08-07T20:42:46.396276",
     "exception": false,
     "start_time": "2022-08-07T20:42:44.875656",
     "status": "completed"
    },
    "tags": []
   },
   "outputs": [
    {
     "data": {
      "text/html": [
       "<iframe src=\"plot1.html\" width=100% height=600></iframe>"
      ]
     },
     "metadata": {},
     "output_type": "display_data"
    }
   ],
   "source": [
    "# Plot\n",
    "russiaLossesEquipment.clean %>%\n",
    "  group_by(date) %>%\n",
    "  summarise(value = sum(aircraft,\n",
    "                        helicopter,\n",
    "                        tank,\n",
    "                        apc,\n",
    "                        field_artillery,\n",
    "                        mrl,\n",
    "                        military_auto,\n",
    "                        fuel_tank,\n",
    "                        drone,\n",
    "                        naval_ship,\n",
    "                        anti_aircraft_warfare,\n",
    "                        special_equipment,\n",
    "                        mobile_srbm_system,\n",
    "                        na.rm = TRUE)) %>%\n",
    "  hchart('line',\n",
    "         name = 'Losses',\n",
    "         hcaes(x = date,\n",
    "               y = value)) %>%\n",
    "  hc_colors('#da291c') %>%\n",
    "  hc_xAxis(title = list(text = 'Date')) %>%\n",
    "  hc_yAxis(title = list(text = 'Total')) %>%\n",
    "  hc_title(text = 'Russia losses equipment') %>%\n",
    "  hc_subtitle(text = 'How many equipment losses has Russia recorded each day?') %>%\n",
    "  hc_caption(text = '<b>Russia losses equipment:</b><br>\n",
    "             <em>Aircraft, Helicopter, Tank, APC, Field Artillery, MRL<br>\n",
    "             Military Auto, Drone, Naval Ship, Anti Aircraft Warfare, Special Equipment and Mobile SRBM System</em>') %>%\n",
    "  hc_add_theme(hc_theme_elementary()) -> plot1\n",
    "\n",
    "# This is just a workaround to make the kaggle kernel show the plot correctly\n",
    "htmlwidgets::saveWidget(plot1, 'plot1.html')\n",
    "IRdisplay::display_html('<iframe src=\"plot1.html\" width=100% height=600></iframe>')"
   ]
  },
  {
   "cell_type": "markdown",
   "id": "69278b46",
   "metadata": {
    "papermill": {
     "duration": 0.205733,
     "end_time": "2022-08-07T20:42:46.808390",
     "exception": false,
     "start_time": "2022-08-07T20:42:46.602657",
     "status": "completed"
    },
    "tags": []
   },
   "source": [
    "<div class=\"alert alert-block alert-info\" style=\"font-size:14px; font-family:verdana; line-height: 1.7em; text-align: center;\">\n",
    "    📌 &nbsp; Important. Each new record is accumulated data from previous days.\n",
    "</div>"
   ]
  },
  {
   "cell_type": "markdown",
   "id": "be808d24",
   "metadata": {
    "papermill": {
     "duration": 0.204083,
     "end_time": "2022-08-07T20:42:47.214130",
     "exception": false,
     "start_time": "2022-08-07T20:42:47.010047",
     "status": "completed"
    },
    "tags": []
   },
   "source": [
    "<h3 style=\"font-family: Verdana;\">> Russia Losses Equipment by day</h3>"
   ]
  },
  {
   "cell_type": "code",
   "execution_count": 11,
   "id": "4907627c",
   "metadata": {
    "_kg_hide-input": true,
    "execution": {
     "iopub.execute_input": "2022-08-07T20:42:47.625942Z",
     "iopub.status.busy": "2022-08-07T20:42:47.624223Z",
     "iopub.status.idle": "2022-08-07T20:42:47.647401Z",
     "shell.execute_reply": "2022-08-07T20:42:47.646020Z"
    },
    "papermill": {
     "duration": 0.230591,
     "end_time": "2022-08-07T20:42:47.647566",
     "exception": false,
     "start_time": "2022-08-07T20:42:47.416975",
     "status": "completed"
    },
    "tags": []
   },
   "outputs": [],
   "source": [
    "# Calculate the total losses by each day\n",
    "totalRussianLostEquipmentDay <- russiaLossesEquipment.clean %>%\n",
    "  group_by(date) %>%\n",
    "  mutate(total = sum(aircraft,\n",
    "                     helicopter,\n",
    "                     tank,\n",
    "                     apc,\n",
    "                     field_artillery,\n",
    "                     mrl,\n",
    "                     military_auto,\n",
    "                     fuel_tank,\n",
    "                     drone,\n",
    "                     naval_ship,\n",
    "                     anti_aircraft_warfare,\n",
    "                     special_equipment,\n",
    "                     mobile_srbm_system,\n",
    "                     na.rm = TRUE)) %>%\n",
    "  ungroup()"
   ]
  },
  {
   "cell_type": "code",
   "execution_count": 12,
   "id": "b679d0f7",
   "metadata": {
    "_kg_hide-input": true,
    "execution": {
     "iopub.execute_input": "2022-08-07T20:42:48.058328Z",
     "iopub.status.busy": "2022-08-07T20:42:48.056931Z",
     "iopub.status.idle": "2022-08-07T20:42:48.080527Z",
     "shell.execute_reply": "2022-08-07T20:42:48.079321Z"
    },
    "papermill": {
     "duration": 0.231233,
     "end_time": "2022-08-07T20:42:48.080695",
     "exception": false,
     "start_time": "2022-08-07T20:42:47.849462",
     "status": "completed"
    },
    "tags": []
   },
   "outputs": [],
   "source": [
    "# We create a new column with the difference values of the previous day\n",
    "totalRussianLostEquipmentDay <- totalRussianLostEquipmentDay%>%\n",
    "  mutate(difference = total - lag(total, default = first(total)))"
   ]
  },
  {
   "cell_type": "code",
   "execution_count": 13,
   "id": "e9885368",
   "metadata": {
    "_kg_hide-input": true,
    "execution": {
     "iopub.execute_input": "2022-08-07T20:42:48.492228Z",
     "iopub.status.busy": "2022-08-07T20:42:48.490491Z",
     "iopub.status.idle": "2022-08-07T20:42:48.510544Z",
     "shell.execute_reply": "2022-08-07T20:42:48.509076Z"
    },
    "papermill": {
     "duration": 0.227552,
     "end_time": "2022-08-07T20:42:48.510731",
     "exception": false,
     "start_time": "2022-08-07T20:42:48.283179",
     "status": "completed"
    },
    "tags": []
   },
   "outputs": [],
   "source": [
    "# We assign default value for the first input value\n",
    "totalRussianLostEquipmentDay <- totalRussianLostEquipmentDay %>%\n",
    "  mutate(difference = case_when(row_number() == 1 ~ first(total),\n",
    "                                TRUE ~ difference))"
   ]
  },
  {
   "cell_type": "markdown",
   "id": "155f6331",
   "metadata": {
    "papermill": {
     "duration": 0.205371,
     "end_time": "2022-08-07T20:42:48.920757",
     "exception": false,
     "start_time": "2022-08-07T20:42:48.715386",
     "status": "completed"
    },
    "tags": []
   },
   "source": [
    "<a id=\"plotRussiaLossesEquipmentDay\"></a>\n",
    "\n",
    "<h2 style=\"font-family: Verdana; color:#56a0d3\">Plot: Russia Losses Equipment by day</h2>"
   ]
  },
  {
   "cell_type": "code",
   "execution_count": 14,
   "id": "c1e2e342",
   "metadata": {
    "_kg_hide-input": true,
    "execution": {
     "iopub.execute_input": "2022-08-07T20:42:49.334707Z",
     "iopub.status.busy": "2022-08-07T20:42:49.333280Z",
     "iopub.status.idle": "2022-08-07T20:42:50.370307Z",
     "shell.execute_reply": "2022-08-07T20:42:50.368594Z"
    },
    "papermill": {
     "duration": 1.24478,
     "end_time": "2022-08-07T20:42:50.370477",
     "exception": false,
     "start_time": "2022-08-07T20:42:49.125697",
     "status": "completed"
    },
    "tags": []
   },
   "outputs": [
    {
     "data": {
      "text/html": [
       "<iframe src=\"plot2.html\" width=100% height=700></iframe>"
      ]
     },
     "metadata": {},
     "output_type": "display_data"
    }
   ],
   "source": [
    "# Plot: Equipment Lost by day\n",
    "totalRussianLostEquipmentDay %>%\n",
    "  hchart('column',\n",
    "         name = 'Losses',\n",
    "         hcaes(x = date,\n",
    "               y = difference)) %>%\n",
    "  hc_colors('#da291c') %>%\n",
    "  hc_xAxis(title = list(text = 'Date')) %>%\n",
    "  hc_yAxis(title = list(text = 'Total')) %>%\n",
    "  hc_title(text = 'Equipment lost') %>%\n",
    "  hc_plotOptions(series = list(boderWidth = 2,\n",
    "                               dataLabels = list(enabled = TRUE))) %>%\n",
    "  hc_subtitle(text = 'How many equipment losses has Russia recorded each day?') %>%\n",
    "  hc_caption(text = '<b>Equipment lost by Russia:</b><br>\n",
    "             <em>Aircraft, Helicopter, Tank, APC, Field Artillery, Fuel Tank, MRL<br>\n",
    "             Military Auto, Drone, Naval Ship, Anti Aircraft Warfare, Special Equipment and Mobile SRBM System</em>') %>%\n",
    "  hc_add_theme(hc_theme_elementary()) -> plot2\n",
    "\n",
    "# This is just a workaround to make the kaggle kernel show the plot correctly\n",
    "htmlwidgets::saveWidget(plot2, 'plot2.html')\n",
    "IRdisplay::display_html('<iframe src=\"plot2.html\" width=100% height=700></iframe>')"
   ]
  },
  {
   "cell_type": "markdown",
   "id": "e0d5ceb0",
   "metadata": {
    "papermill": {
     "duration": 0.203858,
     "end_time": "2022-08-07T20:42:50.803314",
     "exception": false,
     "start_time": "2022-08-07T20:42:50.599456",
     "status": "completed"
    },
    "tags": []
   },
   "source": [
    "<h3 style=\"font-family: Verdana;\">> Total number of equipments lost by category</h3>"
   ]
  },
  {
   "cell_type": "code",
   "execution_count": 15,
   "id": "39b58333",
   "metadata": {
    "_kg_hide-input": true,
    "execution": {
     "iopub.execute_input": "2022-08-07T20:42:51.219032Z",
     "iopub.status.busy": "2022-08-07T20:42:51.217425Z",
     "iopub.status.idle": "2022-08-07T20:42:51.255444Z",
     "shell.execute_reply": "2022-08-07T20:42:51.254173Z"
    },
    "papermill": {
     "duration": 0.247881,
     "end_time": "2022-08-07T20:42:51.255597",
     "exception": false,
     "start_time": "2022-08-07T20:42:51.007716",
     "status": "completed"
    },
    "tags": []
   },
   "outputs": [],
   "source": [
    "# Total number of equipments lost by category\n",
    "categoryRussianLostequipment <- russiaLossesEquipment %>%\n",
    "  clean_names() %>%\n",
    "  mutate(date = ymd(date))"
   ]
  },
  {
   "cell_type": "code",
   "execution_count": 16,
   "id": "57d35f80",
   "metadata": {
    "_kg_hide-input": true,
    "execution": {
     "iopub.execute_input": "2022-08-07T20:42:51.669467Z",
     "iopub.status.busy": "2022-08-07T20:42:51.667761Z",
     "iopub.status.idle": "2022-08-07T20:42:51.690532Z",
     "shell.execute_reply": "2022-08-07T20:42:51.689154Z"
    },
    "papermill": {
     "duration": 0.230258,
     "end_time": "2022-08-07T20:42:51.690728",
     "exception": false,
     "start_time": "2022-08-07T20:42:51.460470",
     "status": "completed"
    },
    "tags": []
   },
   "outputs": [],
   "source": [
    "# We convert it to a longer format\n",
    "categoryRussianLostequipment <- categoryRussianLostequipment %>%\n",
    "  pivot_longer(cols = aircraft:mobile_srbm_system, names_to = 'equipment' , values_to = 'losses')"
   ]
  },
  {
   "cell_type": "code",
   "execution_count": 17,
   "id": "a9714230",
   "metadata": {
    "_kg_hide-input": true,
    "execution": {
     "iopub.execute_input": "2022-08-07T20:42:52.140312Z",
     "iopub.status.busy": "2022-08-07T20:42:52.138659Z",
     "iopub.status.idle": "2022-08-07T20:42:52.168727Z",
     "shell.execute_reply": "2022-08-07T20:42:52.167359Z"
    },
    "papermill": {
     "duration": 0.242861,
     "end_time": "2022-08-07T20:42:52.168889",
     "exception": false,
     "start_time": "2022-08-07T20:42:51.926028",
     "status": "completed"
    },
    "tags": []
   },
   "outputs": [],
   "source": [
    "# Clean the output\n",
    "categoryRussianLostequipment <- categoryRussianLostequipment %>%\n",
    "  mutate(equipment = gsub('_', ' ', equipment)) %>%\n",
    "  group_by(equipment) %>%\n",
    "  summarise(total = max(losses,\n",
    "                        na.rm = TRUE))"
   ]
  },
  {
   "cell_type": "code",
   "execution_count": 18,
   "id": "1596621d",
   "metadata": {
    "_kg_hide-input": true,
    "execution": {
     "iopub.execute_input": "2022-08-07T20:42:52.588632Z",
     "iopub.status.busy": "2022-08-07T20:42:52.587064Z",
     "iopub.status.idle": "2022-08-07T20:42:52.601229Z",
     "shell.execute_reply": "2022-08-07T20:42:52.599712Z"
    },
    "papermill": {
     "duration": 0.225643,
     "end_time": "2022-08-07T20:42:52.601400",
     "exception": false,
     "start_time": "2022-08-07T20:42:52.375757",
     "status": "completed"
    },
    "tags": []
   },
   "outputs": [],
   "source": [
    "# Colors\n",
    "  colors <- c('#0048ba',\n",
    "              '#ffb745',\n",
    "              '#483d8b',\n",
    "              '#af002a',\n",
    "              '#50ffd5',\n",
    "              '#3b7a57',\n",
    "              '#c485a8',\n",
    "              '#03c03c',\n",
    "              '#171412',\n",
    "              '#4cb7a5',\n",
    "              '#87413f',\n",
    "              '#004225',\n",
    "              '#5f1933')"
   ]
  },
  {
   "cell_type": "markdown",
   "id": "26a992e8",
   "metadata": {
    "papermill": {
     "duration": 0.207806,
     "end_time": "2022-08-07T20:42:53.022297",
     "exception": false,
     "start_time": "2022-08-07T20:42:52.814491",
     "status": "completed"
    },
    "tags": []
   },
   "source": [
    "<a id=\"plotCategoryRussianLostequipment\"></a>\n",
    "\n",
    "<h2 style=\"font-family: Verdana; color:#56a0d3\">Plot: Russian equipment lost by category</h2>"
   ]
  },
  {
   "cell_type": "code",
   "execution_count": 19,
   "id": "c16239a1",
   "metadata": {
    "_kg_hide-input": true,
    "execution": {
     "iopub.execute_input": "2022-08-07T20:42:53.440302Z",
     "iopub.status.busy": "2022-08-07T20:42:53.438638Z",
     "iopub.status.idle": "2022-08-07T20:42:53.809418Z",
     "shell.execute_reply": "2022-08-07T20:42:53.807768Z"
    },
    "papermill": {
     "duration": 0.581197,
     "end_time": "2022-08-07T20:42:53.809581",
     "exception": false,
     "start_time": "2022-08-07T20:42:53.228384",
     "status": "completed"
    },
    "tags": []
   },
   "outputs": [
    {
     "data": {
      "text/html": [
       "<iframe src=\"plot3.html\" width=100% height=700></iframe>"
      ]
     },
     "metadata": {},
     "output_type": "display_data"
    }
   ],
   "source": [
    "# Plot\n",
    "categoryRussianLostequipment %>%\n",
    "  hchart('bar',\n",
    "         hcaes(x = equipment,\n",
    "               y = total,\n",
    "               group = equipment)) %>%\n",
    "  hc_plotOptions(series = list(boderWidth = 2,\n",
    "                               dataLabels = list(enabled = TRUE))) %>%\n",
    "  hc_colors(colors) %>%\n",
    "  hc_title(text = 'Equipment lost') %>%\n",
    "  hc_subtitle(text = 'Total Russian equipment lost by category') %>%\n",
    "  hc_xAxis(title = list(text = 'Equipment')) %>%\n",
    "  hc_yAxis(title = list(text = 'Total')) %>%\n",
    "  hc_add_theme(hc_theme_elementary()) -> plot3\n",
    "\n",
    "# This is just a workaround to make the kaggle kernel show the plot correctly\n",
    "htmlwidgets::saveWidget(plot3, 'plot3.html')\n",
    "IRdisplay::display_html('<iframe src=\"plot3.html\" width=100% height=700></iframe>')"
   ]
  },
  {
   "cell_type": "markdown",
   "id": "f7ec17ac",
   "metadata": {
    "papermill": {
     "duration": 0.207886,
     "end_time": "2022-08-07T20:42:54.223083",
     "exception": false,
     "start_time": "2022-08-07T20:42:54.015197",
     "status": "completed"
    },
    "tags": []
   },
   "source": [
    "<h3 style=\"font-family: Verdana;\">> The amounts of equipment lost per day and by category</h3>"
   ]
  },
  {
   "cell_type": "code",
   "execution_count": 20,
   "id": "22bc2e1e",
   "metadata": {
    "_kg_hide-input": true,
    "execution": {
     "iopub.execute_input": "2022-08-07T20:42:54.642296Z",
     "iopub.status.busy": "2022-08-07T20:42:54.640604Z",
     "iopub.status.idle": "2022-08-07T20:42:54.677595Z",
     "shell.execute_reply": "2022-08-07T20:42:54.676255Z"
    },
    "papermill": {
     "duration": 0.247756,
     "end_time": "2022-08-07T20:42:54.677782",
     "exception": false,
     "start_time": "2022-08-07T20:42:54.430026",
     "status": "completed"
    },
    "tags": []
   },
   "outputs": [],
   "source": [
    "# We create a new data frame with only the amounts of equipment lost per day\n",
    "amountRussianLostEquipmentDay <- totalRussianLostEquipmentDay %>%\n",
    "  mutate(aircraft_difference = coalesce(aircraft_difference,\n",
    "                                               aircraft),\n",
    "                helicopter_difference = coalesce(helicopter_difference,\n",
    "                                                 helicopter),\n",
    "                tank_difference = coalesce(tank_difference,\n",
    "                                           tank),\n",
    "                apc_difference = coalesce(apc_difference,\n",
    "                                          apc),\n",
    "                field_artillery_difference = coalesce(field_artillery_difference,\n",
    "                                                      field_artillery),\n",
    "                mrl_difference = coalesce(mrl_difference,\n",
    "                                          mrl),\n",
    "                military_auto_difference = coalesce(military_auto_difference,\n",
    "                                                    military_auto),\n",
    "                fuel_tank_difference = coalesce(fuel_tank_difference,\n",
    "                                                fuel_tank),\n",
    "                drone_difference = coalesce(drone_difference,\n",
    "                                            drone),\n",
    "                naval_ship_difference = coalesce(naval_ship_difference,\n",
    "                                                 naval_ship),\n",
    "                anti_aircraft_warfare_difference = coalesce(anti_aircraft_warfare_difference,\n",
    "                                                            anti_aircraft_warfare),\n",
    "                special_equipment_difference = coalesce(special_equipment_difference,\n",
    "                                                        special_equipment),\n",
    "                mobile_srbm_system_difference = coalesce(mobile_srbm_system_difference,\n",
    "                                                         mobile_srbm_system)) %>%\n",
    "           mutate(aircraft_difference = case_when(row_number() == 1 ~ first(aircraft),\n",
    "                                                  TRUE ~ aircraft_difference),\n",
    "                  helicopter_difference = case_when(row_number() == 1 ~ first(helicopter),\n",
    "                                                    TRUE ~ helicopter_difference),\n",
    "                  tank_difference = case_when(row_number() == 1 ~ first(tank),\n",
    "                                              TRUE ~ tank_difference),\n",
    "                  apc_difference = case_when(row_number() == 1 ~ first(apc),\n",
    "                                             TRUE ~ apc_difference),\n",
    "                  field_artillery_difference = case_when(row_number() == 1 ~ first(field_artillery),\n",
    "                                                         TRUE ~ field_artillery_difference),\n",
    "                  mrl_difference = case_when(row_number() == 1 ~ first(mrl),\n",
    "                                             TRUE ~ mrl_difference),\n",
    "                  military_auto_difference = case_when(row_number() == 1 ~ first(military_auto),\n",
    "                                                       TRUE ~ military_auto_difference),\n",
    "                  fuel_tank_difference = case_when(row_number() == 1 ~ first(fuel_tank),\n",
    "                                                   TRUE ~ fuel_tank_difference),\n",
    "                  drone_difference = case_when(row_number() == 1 ~ first(drone),\n",
    "                                               TRUE ~ drone_difference),\n",
    "                  naval_ship_difference = case_when(row_number() == 1 ~ first(naval_ship),\n",
    "                                                    TRUE ~ naval_ship_difference),\n",
    "                  anti_aircraft_warfare_difference = case_when(row_number() == 1 ~ first(anti_aircraft_warfare),\n",
    "                                                               TRUE ~ anti_aircraft_warfare_difference),\n",
    "                  special_equipment_difference = case_when(row_number() == 1 ~ first(special_equipment),\n",
    "                                                           TRUE ~ special_equipment_difference),\n",
    "                  mobile_srbm_system_difference = case_when(row_number() == 1 ~ first(mobile_srbm_system),\n",
    "                                                            TRUE ~ mobile_srbm_system_difference)) %>%\n",
    "  select(date,\n",
    "         aircraft_difference,\n",
    "         helicopter_difference,\n",
    "         tank_difference,\n",
    "         apc_difference,\n",
    "         field_artillery_difference,\n",
    "         mrl_difference,\n",
    "         military_auto_difference,\n",
    "         fuel_tank_difference,\n",
    "         drone_difference,\n",
    "         naval_ship_difference,\n",
    "         anti_aircraft_warfare_difference,\n",
    "         special_equipment_difference,\n",
    "         mobile_srbm_system_difference)"
   ]
  },
  {
   "cell_type": "markdown",
   "id": "cfaf1dd2",
   "metadata": {
    "papermill": {
     "duration": 0.209625,
     "end_time": "2022-08-07T20:42:55.095820",
     "exception": false,
     "start_time": "2022-08-07T20:42:54.886195",
     "status": "completed"
    },
    "tags": []
   },
   "source": [
    "<a id=\"plotAmountsEquipmentsDay\"></a>\n",
    "\n",
    "<h2 style=\"font-family: Verdana; color:#56a0d3\">Plot: The amounts of equipment lost per day and by category</h2>"
   ]
  },
  {
   "cell_type": "code",
   "execution_count": 21,
   "id": "893ba6a7",
   "metadata": {
    "_kg_hide-input": true,
    "execution": {
     "iopub.execute_input": "2022-08-07T20:42:55.514034Z",
     "iopub.status.busy": "2022-08-07T20:42:55.512464Z",
     "iopub.status.idle": "2022-08-07T20:43:00.255464Z",
     "shell.execute_reply": "2022-08-07T20:43:00.253481Z"
    },
    "papermill": {
     "duration": 4.954393,
     "end_time": "2022-08-07T20:43:00.255652",
     "exception": false,
     "start_time": "2022-08-07T20:42:55.301259",
     "status": "completed"
    },
    "tags": []
   },
   "outputs": [
    {
     "data": {
      "text/html": [
       "<iframe src=\"plot4.html\" width=100% height=800></iframe>"
      ]
     },
     "metadata": {},
     "output_type": "display_data"
    }
   ],
   "source": [
    "# Plot\n",
    "highchart(type = 'stock') %>%\n",
    "  hc_chart('line',\n",
    "           name = 'base',\n",
    "           hcaes(x = date)) %>%\n",
    "  hc_title(text = 'Equipment Lost') %>%\n",
    "  hc_subtitle(text = 'Amount of Russian equipment lost by categories per day') %>%\n",
    "  hc_add_series(amountRussianLostEquipmentDay,\n",
    "                name = 'Aircrafts',\n",
    "                type = 'line',\n",
    "                hcaes(x = date,\n",
    "                      y = aircraft_difference)) %>%\n",
    "  hc_add_series(amountRussianLostEquipmentDay,\n",
    "                name = 'Helicopter',\n",
    "                type = 'line',\n",
    "                hcaes(x = date,\n",
    "                      y = helicopter_difference)) %>%\n",
    "  hc_add_series(amountRussianLostEquipmentDay,\n",
    "                name = 'Tanks',\n",
    "                type = 'line',\n",
    "                hcaes(x = date,\n",
    "                      y = tank_difference)) %>%\n",
    "  hc_add_series(amountRussianLostEquipmentDay,\n",
    "                name = 'APC',\n",
    "                type = 'line',\n",
    "                hcaes(x = date,\n",
    "                      y = apc_difference)) %>%\n",
    "  hc_add_series(amountRussianLostEquipmentDay,\n",
    "                name = 'Field Artillery',\n",
    "                type = 'line',\n",
    "                hcaes(x = date,\n",
    "                      y = field_artillery_difference)) %>%\n",
    "  hc_add_series(amountRussianLostEquipmentDay,\n",
    "                name = 'MRL',\n",
    "                type = 'line',\n",
    "                hcaes(x = date,\n",
    "                      y = mrl_difference)) %>%\n",
    "  hc_add_series(amountRussianLostEquipmentDay,\n",
    "                name = 'Military Auto',\n",
    "                type = 'line',\n",
    "                hcaes(x = date,\n",
    "                      y = military_auto_difference)) %>%\n",
    "  hc_add_series(amountRussianLostEquipmentDay,\n",
    "                name = 'Fuel Tank',\n",
    "                type = 'line',\n",
    "                hcaes(x = date,\n",
    "                      y = fuel_tank_difference)) %>%\n",
    "  hc_add_series(amountRussianLostEquipmentDay,\n",
    "                name = 'Drone',\n",
    "                type = 'line',\n",
    "                hcaes(x = date,\n",
    "                      y = drone_difference)) %>%\n",
    "  hc_add_series(amountRussianLostEquipmentDay,\n",
    "                name = 'Naval Ship',\n",
    "                type = 'line',\n",
    "                hcaes(x = date,\n",
    "                      y = naval_ship_difference)) %>%\n",
    "  hc_add_series(amountRussianLostEquipmentDay,\n",
    "                name = 'Anti Aircraft Warfare',\n",
    "                type = 'line',\n",
    "                hcaes(x = date,\n",
    "                      y = anti_aircraft_warfare_difference)) %>%\n",
    "  hc_add_series(amountRussianLostEquipmentDay,\n",
    "                name = 'Special Equipment',\n",
    "                type = 'line',\n",
    "                hcaes(x = date,\n",
    "                      y = special_equipment_difference)) %>%\n",
    "  hc_add_series(amountRussianLostEquipmentDay,\n",
    "                name = 'Mobile SRBM System',\n",
    "                type = 'line',\n",
    "                hcaes(x = date,\n",
    "                      y = mobile_srbm_system_difference)) %>%\n",
    "  hc_add_theme(hc_theme_elementary()) -> plot4\n",
    "\n",
    "# This is just a workaround to make the kaggle kernel show the plot correctly\n",
    "htmlwidgets::saveWidget(plot4, 'plot4.html')\n",
    "IRdisplay::display_html('<iframe src=\"plot4.html\" width=100% height=800></iframe>')"
   ]
  },
  {
   "cell_type": "markdown",
   "id": "dbb90953",
   "metadata": {
    "papermill": {
     "duration": 0.2075,
     "end_time": "2022-08-07T20:43:00.674453",
     "exception": false,
     "start_time": "2022-08-07T20:43:00.466953",
     "status": "completed"
    },
    "tags": []
   },
   "source": [
    "<a id=\"tableAmountsEquipmentsDay\"></a>\n",
    "\n",
    "<h2 style=\"font-family: Verdana; color:#56a0d3\">Table: The amounts of equipment lost per day and by category</h2>"
   ]
  },
  {
   "cell_type": "code",
   "execution_count": 22,
   "id": "7c8b4570",
   "metadata": {
    "_kg_hide-output": true,
    "execution": {
     "iopub.execute_input": "2022-08-07T20:43:01.103205Z",
     "iopub.status.busy": "2022-08-07T20:43:01.100874Z",
     "iopub.status.idle": "2022-08-07T20:43:01.166014Z",
     "shell.execute_reply": "2022-08-07T20:43:01.164173Z"
    },
    "papermill": {
     "duration": 0.280851,
     "end_time": "2022-08-07T20:43:01.166169",
     "exception": false,
     "start_time": "2022-08-07T20:43:00.885318",
     "status": "completed"
    },
    "tags": []
   },
   "outputs": [
    {
     "data": {
      "text/html": [
       "<table class=\"dataframe\">\n",
       "<caption>A tibble: 164 × 2</caption>\n",
       "<thead>\n",
       "\t<tr><th scope=col>date</th><th scope=col>equipment_lost</th></tr>\n",
       "\t<tr><th scope=col>&lt;date&gt;</th><th scope=col>&lt;dbl&gt;</th></tr>\n",
       "</thead>\n",
       "<tbody>\n",
       "\t<tr><td>2022-02-25</td><td>828</td></tr>\n",
       "\t<tr><td>2022-02-26</td><td>324</td></tr>\n",
       "\t<tr><td>2022-02-27</td><td>  5</td></tr>\n",
       "\t<tr><td>2022-02-28</td><td>323</td></tr>\n",
       "\t<tr><td>2022-03-01</td><td>100</td></tr>\n",
       "\t<tr><td>2022-03-02</td><td>108</td></tr>\n",
       "\t<tr><td>2022-03-03</td><td> 72</td></tr>\n",
       "\t<tr><td>2022-03-04</td><td>142</td></tr>\n",
       "\t<tr><td>2022-03-05</td><td> 39</td></tr>\n",
       "\t<tr><td>2022-03-06</td><td>114</td></tr>\n",
       "\t<tr><td>2022-03-07</td><td> 62</td></tr>\n",
       "\t<tr><td>2022-03-08</td><td> 97</td></tr>\n",
       "\t<tr><td>2022-03-09</td><td> 59</td></tr>\n",
       "\t<tr><td>2022-03-10</td><td>101</td></tr>\n",
       "\t<tr><td>2022-03-11</td><td>126</td></tr>\n",
       "\t<tr><td>2022-03-12</td><td> 93</td></tr>\n",
       "\t<tr><td>2022-03-13</td><td> 73</td></tr>\n",
       "\t<tr><td>2022-03-14</td><td> 75</td></tr>\n",
       "\t<tr><td>2022-03-15</td><td> 80</td></tr>\n",
       "\t<tr><td>2022-03-16</td><td>382</td></tr>\n",
       "\t<tr><td>2022-03-17</td><td>134</td></tr>\n",
       "\t<tr><td>2022-03-18</td><td> 51</td></tr>\n",
       "\t<tr><td>2022-03-19</td><td> 92</td></tr>\n",
       "\t<tr><td>2022-03-20</td><td> 88</td></tr>\n",
       "\t<tr><td>2022-03-21</td><td>117</td></tr>\n",
       "\t<tr><td>2022-03-22</td><td>102</td></tr>\n",
       "\t<tr><td>2022-03-23</td><td> 66</td></tr>\n",
       "\t<tr><td>2022-03-24</td><td> 90</td></tr>\n",
       "\t<tr><td>2022-03-25</td><td>150</td></tr>\n",
       "\t<tr><td>2022-03-26</td><td> 89</td></tr>\n",
       "\t<tr><td>⋮</td><td>⋮</td></tr>\n",
       "\t<tr><td>2022-07-09</td><td>15</td></tr>\n",
       "\t<tr><td>2022-07-10</td><td>16</td></tr>\n",
       "\t<tr><td>2022-07-11</td><td>14</td></tr>\n",
       "\t<tr><td>2022-07-12</td><td> 5</td></tr>\n",
       "\t<tr><td>2022-07-13</td><td> 7</td></tr>\n",
       "\t<tr><td>2022-07-14</td><td>24</td></tr>\n",
       "\t<tr><td>2022-07-15</td><td>42</td></tr>\n",
       "\t<tr><td>2022-07-16</td><td>24</td></tr>\n",
       "\t<tr><td>2022-07-17</td><td>15</td></tr>\n",
       "\t<tr><td>2022-07-18</td><td>20</td></tr>\n",
       "\t<tr><td>2022-07-19</td><td>15</td></tr>\n",
       "\t<tr><td>2022-07-20</td><td>40</td></tr>\n",
       "\t<tr><td>2022-07-21</td><td>24</td></tr>\n",
       "\t<tr><td>2022-07-22</td><td>15</td></tr>\n",
       "\t<tr><td>2022-07-23</td><td>17</td></tr>\n",
       "\t<tr><td>2022-07-24</td><td>35</td></tr>\n",
       "\t<tr><td>2022-07-25</td><td>34</td></tr>\n",
       "\t<tr><td>2022-07-26</td><td>28</td></tr>\n",
       "\t<tr><td>2022-07-27</td><td>21</td></tr>\n",
       "\t<tr><td>2022-07-28</td><td>26</td></tr>\n",
       "\t<tr><td>2022-07-29</td><td>25</td></tr>\n",
       "\t<tr><td>2022-07-30</td><td>27</td></tr>\n",
       "\t<tr><td>2022-07-31</td><td>29</td></tr>\n",
       "\t<tr><td>2022-08-01</td><td>31</td></tr>\n",
       "\t<tr><td>2022-08-02</td><td>11</td></tr>\n",
       "\t<tr><td>2022-08-03</td><td>20</td></tr>\n",
       "\t<tr><td>2022-08-04</td><td>29</td></tr>\n",
       "\t<tr><td>2022-08-05</td><td>18</td></tr>\n",
       "\t<tr><td>2022-08-06</td><td>42</td></tr>\n",
       "\t<tr><td>2022-08-07</td><td>22</td></tr>\n",
       "</tbody>\n",
       "</table>\n"
      ],
      "text/latex": [
       "A tibble: 164 × 2\n",
       "\\begin{tabular}{ll}\n",
       " date & equipment\\_lost\\\\\n",
       " <date> & <dbl>\\\\\n",
       "\\hline\n",
       "\t 2022-02-25 & 828\\\\\n",
       "\t 2022-02-26 & 324\\\\\n",
       "\t 2022-02-27 &   5\\\\\n",
       "\t 2022-02-28 & 323\\\\\n",
       "\t 2022-03-01 & 100\\\\\n",
       "\t 2022-03-02 & 108\\\\\n",
       "\t 2022-03-03 &  72\\\\\n",
       "\t 2022-03-04 & 142\\\\\n",
       "\t 2022-03-05 &  39\\\\\n",
       "\t 2022-03-06 & 114\\\\\n",
       "\t 2022-03-07 &  62\\\\\n",
       "\t 2022-03-08 &  97\\\\\n",
       "\t 2022-03-09 &  59\\\\\n",
       "\t 2022-03-10 & 101\\\\\n",
       "\t 2022-03-11 & 126\\\\\n",
       "\t 2022-03-12 &  93\\\\\n",
       "\t 2022-03-13 &  73\\\\\n",
       "\t 2022-03-14 &  75\\\\\n",
       "\t 2022-03-15 &  80\\\\\n",
       "\t 2022-03-16 & 382\\\\\n",
       "\t 2022-03-17 & 134\\\\\n",
       "\t 2022-03-18 &  51\\\\\n",
       "\t 2022-03-19 &  92\\\\\n",
       "\t 2022-03-20 &  88\\\\\n",
       "\t 2022-03-21 & 117\\\\\n",
       "\t 2022-03-22 & 102\\\\\n",
       "\t 2022-03-23 &  66\\\\\n",
       "\t 2022-03-24 &  90\\\\\n",
       "\t 2022-03-25 & 150\\\\\n",
       "\t 2022-03-26 &  89\\\\\n",
       "\t ⋮ & ⋮\\\\\n",
       "\t 2022-07-09 & 15\\\\\n",
       "\t 2022-07-10 & 16\\\\\n",
       "\t 2022-07-11 & 14\\\\\n",
       "\t 2022-07-12 &  5\\\\\n",
       "\t 2022-07-13 &  7\\\\\n",
       "\t 2022-07-14 & 24\\\\\n",
       "\t 2022-07-15 & 42\\\\\n",
       "\t 2022-07-16 & 24\\\\\n",
       "\t 2022-07-17 & 15\\\\\n",
       "\t 2022-07-18 & 20\\\\\n",
       "\t 2022-07-19 & 15\\\\\n",
       "\t 2022-07-20 & 40\\\\\n",
       "\t 2022-07-21 & 24\\\\\n",
       "\t 2022-07-22 & 15\\\\\n",
       "\t 2022-07-23 & 17\\\\\n",
       "\t 2022-07-24 & 35\\\\\n",
       "\t 2022-07-25 & 34\\\\\n",
       "\t 2022-07-26 & 28\\\\\n",
       "\t 2022-07-27 & 21\\\\\n",
       "\t 2022-07-28 & 26\\\\\n",
       "\t 2022-07-29 & 25\\\\\n",
       "\t 2022-07-30 & 27\\\\\n",
       "\t 2022-07-31 & 29\\\\\n",
       "\t 2022-08-01 & 31\\\\\n",
       "\t 2022-08-02 & 11\\\\\n",
       "\t 2022-08-03 & 20\\\\\n",
       "\t 2022-08-04 & 29\\\\\n",
       "\t 2022-08-05 & 18\\\\\n",
       "\t 2022-08-06 & 42\\\\\n",
       "\t 2022-08-07 & 22\\\\\n",
       "\\end{tabular}\n"
      ],
      "text/markdown": [
       "\n",
       "A tibble: 164 × 2\n",
       "\n",
       "| date &lt;date&gt; | equipment_lost &lt;dbl&gt; |\n",
       "|---|---|\n",
       "| 2022-02-25 | 828 |\n",
       "| 2022-02-26 | 324 |\n",
       "| 2022-02-27 |   5 |\n",
       "| 2022-02-28 | 323 |\n",
       "| 2022-03-01 | 100 |\n",
       "| 2022-03-02 | 108 |\n",
       "| 2022-03-03 |  72 |\n",
       "| 2022-03-04 | 142 |\n",
       "| 2022-03-05 |  39 |\n",
       "| 2022-03-06 | 114 |\n",
       "| 2022-03-07 |  62 |\n",
       "| 2022-03-08 |  97 |\n",
       "| 2022-03-09 |  59 |\n",
       "| 2022-03-10 | 101 |\n",
       "| 2022-03-11 | 126 |\n",
       "| 2022-03-12 |  93 |\n",
       "| 2022-03-13 |  73 |\n",
       "| 2022-03-14 |  75 |\n",
       "| 2022-03-15 |  80 |\n",
       "| 2022-03-16 | 382 |\n",
       "| 2022-03-17 | 134 |\n",
       "| 2022-03-18 |  51 |\n",
       "| 2022-03-19 |  92 |\n",
       "| 2022-03-20 |  88 |\n",
       "| 2022-03-21 | 117 |\n",
       "| 2022-03-22 | 102 |\n",
       "| 2022-03-23 |  66 |\n",
       "| 2022-03-24 |  90 |\n",
       "| 2022-03-25 | 150 |\n",
       "| 2022-03-26 |  89 |\n",
       "| ⋮ | ⋮ |\n",
       "| 2022-07-09 | 15 |\n",
       "| 2022-07-10 | 16 |\n",
       "| 2022-07-11 | 14 |\n",
       "| 2022-07-12 |  5 |\n",
       "| 2022-07-13 |  7 |\n",
       "| 2022-07-14 | 24 |\n",
       "| 2022-07-15 | 42 |\n",
       "| 2022-07-16 | 24 |\n",
       "| 2022-07-17 | 15 |\n",
       "| 2022-07-18 | 20 |\n",
       "| 2022-07-19 | 15 |\n",
       "| 2022-07-20 | 40 |\n",
       "| 2022-07-21 | 24 |\n",
       "| 2022-07-22 | 15 |\n",
       "| 2022-07-23 | 17 |\n",
       "| 2022-07-24 | 35 |\n",
       "| 2022-07-25 | 34 |\n",
       "| 2022-07-26 | 28 |\n",
       "| 2022-07-27 | 21 |\n",
       "| 2022-07-28 | 26 |\n",
       "| 2022-07-29 | 25 |\n",
       "| 2022-07-30 | 27 |\n",
       "| 2022-07-31 | 29 |\n",
       "| 2022-08-01 | 31 |\n",
       "| 2022-08-02 | 11 |\n",
       "| 2022-08-03 | 20 |\n",
       "| 2022-08-04 | 29 |\n",
       "| 2022-08-05 | 18 |\n",
       "| 2022-08-06 | 42 |\n",
       "| 2022-08-07 | 22 |\n",
       "\n"
      ],
      "text/plain": [
       "    date       equipment_lost\n",
       "1   2022-02-25 828           \n",
       "2   2022-02-26 324           \n",
       "3   2022-02-27   5           \n",
       "4   2022-02-28 323           \n",
       "5   2022-03-01 100           \n",
       "6   2022-03-02 108           \n",
       "7   2022-03-03  72           \n",
       "8   2022-03-04 142           \n",
       "9   2022-03-05  39           \n",
       "10  2022-03-06 114           \n",
       "11  2022-03-07  62           \n",
       "12  2022-03-08  97           \n",
       "13  2022-03-09  59           \n",
       "14  2022-03-10 101           \n",
       "15  2022-03-11 126           \n",
       "16  2022-03-12  93           \n",
       "17  2022-03-13  73           \n",
       "18  2022-03-14  75           \n",
       "19  2022-03-15  80           \n",
       "20  2022-03-16 382           \n",
       "21  2022-03-17 134           \n",
       "22  2022-03-18  51           \n",
       "23  2022-03-19  92           \n",
       "24  2022-03-20  88           \n",
       "25  2022-03-21 117           \n",
       "26  2022-03-22 102           \n",
       "27  2022-03-23  66           \n",
       "28  2022-03-24  90           \n",
       "29  2022-03-25 150           \n",
       "30  2022-03-26  89           \n",
       "⋮   ⋮          ⋮             \n",
       "135 2022-07-09 15            \n",
       "136 2022-07-10 16            \n",
       "137 2022-07-11 14            \n",
       "138 2022-07-12  5            \n",
       "139 2022-07-13  7            \n",
       "140 2022-07-14 24            \n",
       "141 2022-07-15 42            \n",
       "142 2022-07-16 24            \n",
       "143 2022-07-17 15            \n",
       "144 2022-07-18 20            \n",
       "145 2022-07-19 15            \n",
       "146 2022-07-20 40            \n",
       "147 2022-07-21 24            \n",
       "148 2022-07-22 15            \n",
       "149 2022-07-23 17            \n",
       "150 2022-07-24 35            \n",
       "151 2022-07-25 34            \n",
       "152 2022-07-26 28            \n",
       "153 2022-07-27 21            \n",
       "154 2022-07-28 26            \n",
       "155 2022-07-29 25            \n",
       "156 2022-07-30 27            \n",
       "157 2022-07-31 29            \n",
       "158 2022-08-01 31            \n",
       "159 2022-08-02 11            \n",
       "160 2022-08-03 20            \n",
       "161 2022-08-04 29            \n",
       "162 2022-08-05 18            \n",
       "163 2022-08-06 42            \n",
       "164 2022-08-07 22            "
      ]
     },
     "metadata": {},
     "output_type": "display_data"
    }
   ],
   "source": [
    "# Table  \n",
    "amountRussianLostEquipmentDay %>%\n",
    "  group_by(date) %>%\n",
    "  summarise(equipment_lost = sum(aircraft_difference,\n",
    "                                 helicopter_difference,\n",
    "                                 tank_difference,\n",
    "                                 apc_difference,\n",
    "                                 field_artillery_difference,\n",
    "                                 mrl_difference,\n",
    "                                 military_auto_difference,\n",
    "                                 fuel_tank_difference,\n",
    "                                 drone_difference,\n",
    "                                 naval_ship_difference,\n",
    "                                 anti_aircraft_warfare_difference,\n",
    "                                 special_equipment_difference,\n",
    "                                 mobile_srbm_system_difference,\n",
    "                                 na.rm = TRUE)) %>%\n",
    "  ungroup() %>%\n",
    "  View()"
   ]
  },
  {
   "cell_type": "markdown",
   "id": "226692b7",
   "metadata": {
    "papermill": {
     "duration": 0.229646,
     "end_time": "2022-08-07T20:43:01.608591",
     "exception": false,
     "start_time": "2022-08-07T20:43:01.378945",
     "status": "completed"
    },
    "tags": []
   },
   "source": [
    "<a id=\"drilldown\"></a>\n",
    "\n",
    "<h2 style=\"font-family: Verdana; color:#56a0d3\">Drilldown</h2>  "
   ]
  },
  {
   "cell_type": "code",
   "execution_count": 23,
   "id": "1726c4a1",
   "metadata": {
    "_kg_hide-input": true,
    "execution": {
     "iopub.execute_input": "2022-08-07T20:43:02.037042Z",
     "iopub.status.busy": "2022-08-07T20:43:02.035494Z",
     "iopub.status.idle": "2022-08-07T20:43:02.068793Z",
     "shell.execute_reply": "2022-08-07T20:43:02.066933Z"
    },
    "papermill": {
     "duration": 0.250573,
     "end_time": "2022-08-07T20:43:02.068956",
     "exception": false,
     "start_time": "2022-08-07T20:43:01.818383",
     "status": "completed"
    },
    "tags": []
   },
   "outputs": [],
   "source": [
    "# Create categories\n",
    "  categories <- amountRussianLostEquipmentDay %>%\n",
    "    pivot_longer(cols = aircraft_difference:mobile_srbm_system_difference,\n",
    "                 names_to = 'equipment' ,\n",
    "                 values_to = 'losses') %>%\n",
    "    mutate(equipment = gsub('_',\n",
    "                            ' ',\n",
    "                            equipment))"
   ]
  },
  {
   "cell_type": "code",
   "execution_count": 24,
   "id": "d7c8efc9",
   "metadata": {
    "_kg_hide-input": true,
    "execution": {
     "iopub.execute_input": "2022-08-07T20:43:02.498725Z",
     "iopub.status.busy": "2022-08-07T20:43:02.497339Z",
     "iopub.status.idle": "2022-08-07T20:43:02.517306Z",
     "shell.execute_reply": "2022-08-07T20:43:02.516005Z"
    },
    "papermill": {
     "duration": 0.235994,
     "end_time": "2022-08-07T20:43:02.517476",
     "exception": false,
     "start_time": "2022-08-07T20:43:02.281482",
     "status": "completed"
    },
    "tags": []
   },
   "outputs": [],
   "source": [
    "# Clean categories output  \n",
    "  categories <- categories %>%\n",
    "    mutate(equipment = sub(' difference',\n",
    "                           '',\n",
    "                           equipment))"
   ]
  },
  {
   "cell_type": "code",
   "execution_count": 25,
   "id": "2b70eaba",
   "metadata": {
    "_kg_hide-input": true,
    "execution": {
     "iopub.execute_input": "2022-08-07T20:43:02.948335Z",
     "iopub.status.busy": "2022-08-07T20:43:02.946992Z",
     "iopub.status.idle": "2022-08-07T20:43:02.963872Z",
     "shell.execute_reply": "2022-08-07T20:43:02.962047Z"
    },
    "papermill": {
     "duration": 0.23497,
     "end_time": "2022-08-07T20:43:02.964043",
     "exception": false,
     "start_time": "2022-08-07T20:43:02.729073",
     "status": "completed"
    },
    "tags": []
   },
   "outputs": [],
   "source": [
    "# Create data frame for drilldown\n",
    "  totalRussianLostEquipmentCategory <- tibble(name = categoryRussianLostequipment$equipment,\n",
    "                                              y = categoryRussianLostequipment$total,\n",
    "                                              drilldown = tolower(name))"
   ]
  },
  {
   "cell_type": "code",
   "execution_count": 26,
   "id": "82ab8cb9",
   "metadata": {
    "_kg_hide-input": true,
    "execution": {
     "iopub.execute_input": "2022-08-07T20:43:03.394655Z",
     "iopub.status.busy": "2022-08-07T20:43:03.392449Z",
     "iopub.status.idle": "2022-08-07T20:43:03.465599Z",
     "shell.execute_reply": "2022-08-07T20:43:03.464003Z"
    },
    "papermill": {
     "duration": 0.29158,
     "end_time": "2022-08-07T20:43:03.465799",
     "exception": false,
     "start_time": "2022-08-07T20:43:03.174219",
     "status": "completed"
    },
    "tags": []
   },
   "outputs": [],
   "source": [
    "# Filter by category\n",
    "  aircraft <- categories %>%\n",
    "    filter(equipment %in% 'aircraft')\n",
    "  \n",
    "  antiAircraftWarfare <- categories %>%\n",
    "    filter(equipment %in% 'anti aircraft warfare')\n",
    "  \n",
    "  apc <- categories %>%\n",
    "    filter(equipment %in% 'apc')\n",
    "  \n",
    "  drone <- categories %>%\n",
    "    filter(equipment %in% 'drone')\n",
    "  \n",
    "  fieldArtillery <- categories %>%\n",
    "    filter(equipment %in% 'field artillery')\n",
    "  \n",
    "  fuelTank <- categories %>%\n",
    "    filter(equipment %in% 'fuel tank')\n",
    "  \n",
    "  helicopter <- categories %>%\n",
    "    filter(equipment %in% 'helicopter')\n",
    "  \n",
    "  militaryAuto <- categories %>%\n",
    "    filter(equipment %in% 'military auto')\n",
    "  \n",
    "  mobileSrbmSystem <- categories %>%\n",
    "    filter(equipment %in% 'mobile srbm system')\n",
    "  \n",
    "  mrl <- categories %>%\n",
    "    filter(equipment %in% 'mrl')\n",
    "  \n",
    "  navalShip <- categories %>%\n",
    "    filter(equipment %in% 'naval ship')\n",
    "  \n",
    "  specialEquipment <- categories %>%\n",
    "    filter(equipment %in% 'special equipment')\n",
    "  \n",
    "  tank <- categories %>%\n",
    "    filter(equipment %in% 'tank')"
   ]
  },
  {
   "cell_type": "code",
   "execution_count": 27,
   "id": "d24a0c37",
   "metadata": {
    "_kg_hide-input": true,
    "execution": {
     "iopub.execute_input": "2022-08-07T20:43:03.900963Z",
     "iopub.status.busy": "2022-08-07T20:43:03.899969Z",
     "iopub.status.idle": "2022-08-07T20:43:03.920166Z",
     "shell.execute_reply": "2022-08-07T20:43:03.918438Z"
    },
    "papermill": {
     "duration": 0.237847,
     "end_time": "2022-08-07T20:43:03.920326",
     "exception": false,
     "start_time": "2022-08-07T20:43:03.682479",
     "status": "completed"
    },
    "tags": []
   },
   "outputs": [],
   "source": [
    "# Tooltip options    \n",
    "  x <- c('Lost Equipment')\n",
    "  y <- c('{point.y}')\n",
    "  tt <- tooltip_table(x,\n",
    "                      y)"
   ]
  },
  {
   "cell_type": "code",
   "execution_count": 28,
   "id": "05047d37",
   "metadata": {
    "_kg_hide-input": true,
    "execution": {
     "iopub.execute_input": "2022-08-07T20:43:04.350066Z",
     "iopub.status.busy": "2022-08-07T20:43:04.347953Z",
     "iopub.status.idle": "2022-08-07T20:43:04.398125Z",
     "shell.execute_reply": "2022-08-07T20:43:04.396426Z"
    },
    "papermill": {
     "duration": 0.265523,
     "end_time": "2022-08-07T20:43:04.398285",
     "exception": false,
     "start_time": "2022-08-07T20:43:04.132762",
     "status": "completed"
    },
    "tags": []
   },
   "outputs": [],
   "source": [
    "# Create data frames by category for drilldown  \n",
    "  dAircarft = data.frame(name = aircraft$date,\n",
    "                         y = aircraft$losses)\n",
    "  \n",
    "  dAntiAircraftWarfare = data.frame(name = antiAircraftWarfare$date,\n",
    "                                    y = antiAircraftWarfare$losses)\n",
    "  \n",
    "  dApc = data.frame(name = apc$date,\n",
    "                    y = apc$losses)\n",
    "  \n",
    "  dDrone = data.frame(name = drone$date,\n",
    "                      y = drone$losses)\n",
    "  \n",
    "  dFieldArtillery = data.frame(name = fieldArtillery$date,\n",
    "                               y = fieldArtillery$losses)\n",
    "  \n",
    "  dFuelTank = data.frame(name = fuelTank$date,\n",
    "                         y = fuelTank$losses)\n",
    "  \n",
    "  dHelicopter = data.frame(name = helicopter$date,\n",
    "                           y = helicopter$losses)\n",
    "  \n",
    "  dMilitaryAuto = data.frame(name = militaryAuto$date,\n",
    "                             y = militaryAuto$losses)\n",
    "  \n",
    "  dMobileSrbmSystem = data.frame(name = mobileSrbmSystem$date,\n",
    "                                 y = mobileSrbmSystem$losses)\n",
    "  \n",
    "  dMrl = data.frame(name = mrl$date,\n",
    "                    y = mrl$losses)\n",
    "  \n",
    "  dNavalShip = data.frame(name = navalShip$date,\n",
    "                          y = navalShip$losses)\n",
    "  \n",
    "  dSpecialEquipment = data.frame(name = specialEquipment$date,\n",
    "                                 y = specialEquipment$losses)\n",
    "  \n",
    "  dTank = data.frame(name = tank$date,\n",
    "                     y = tank$losses)"
   ]
  },
  {
   "cell_type": "markdown",
   "id": "a2874d09",
   "metadata": {
    "papermill": {
     "duration": 0.210543,
     "end_time": "2022-08-07T20:43:04.819477",
     "exception": false,
     "start_time": "2022-08-07T20:43:04.608934",
     "status": "completed"
    },
    "tags": []
   },
   "source": [
    "<a id=\"plotDrilldown\"></a>\n",
    "\n",
    "<h2 style=\"font-family: Verdana; color:#56a0d3\">Drilldown plot: Russian lost equipment per day in each category</h2>"
   ]
  },
  {
   "cell_type": "code",
   "execution_count": 29,
   "id": "6aab6bae",
   "metadata": {
    "_kg_hide-input": true,
    "execution": {
     "iopub.execute_input": "2022-08-07T20:43:05.245663Z",
     "iopub.status.busy": "2022-08-07T20:43:05.243286Z",
     "iopub.status.idle": "2022-08-07T20:43:06.310240Z",
     "shell.execute_reply": "2022-08-07T20:43:06.308448Z"
    },
    "papermill": {
     "duration": 1.280905,
     "end_time": "2022-08-07T20:43:06.310400",
     "exception": false,
     "start_time": "2022-08-07T20:43:05.029495",
     "status": "completed"
    },
    "tags": []
   },
   "outputs": [
    {
     "data": {
      "text/html": [
       "<iframe src=\"plot5.html\" width=100% height=700></iframe>"
      ]
     },
     "metadata": {},
     "output_type": "display_data"
    }
   ],
   "source": [
    "# Plot\n",
    "  highchart() %>%\n",
    "    hc_chart(type = \"column\") %>%\n",
    "    hc_title(text = \"Russian lost equipment\") %>%\n",
    "    hc_subtitle(text = 'Drilldown: How many equipments have been lost per day in each category?') %>%\n",
    "    hc_xAxis(type = \"category\") %>%\n",
    "    hc_legend(enabled = FALSE) %>%\n",
    "    hc_plotOptions(series = list(boderWidth = 2,\n",
    "                                 dataLabels = list(enabled = TRUE))) %>%\n",
    "    hc_add_series(data = totalRussianLostEquipmentCategory,\n",
    "                  name = \"Lost equipment\",\n",
    "                  colorByPoint = TRUE) %>%\n",
    "    hc_drilldown(allowPointDrilldown = TRUE,\n",
    "                 series = list(list(id = \"aircraft\",\n",
    "                                    data = list_parse2(dAircarft)),\n",
    "                               list(id = 'anti aircraft warfare',\n",
    "                                    data = list_parse2(dAntiAircraftWarfare)),\n",
    "                               list(id = 'apc',\n",
    "                                    data = list_parse2(dApc)),\n",
    "                               list(id = 'drone',\n",
    "                                    data = list_parse2(dDrone)),\n",
    "                               list(id = 'field artillery',\n",
    "                                    data = list_parse2(dFieldArtillery)),\n",
    "                               list(id = 'fuel tank',\n",
    "                                    data = list_parse2(dFuelTank)),\n",
    "                               list(id = 'helicopter',\n",
    "                                    data = list_parse2(dHelicopter)),\n",
    "                               list(id = 'military auto',\n",
    "                                    data = list_parse2(dMilitaryAuto)),\n",
    "                               list(id = 'mobile srbm system',\n",
    "                                    data = list_parse2(dMobileSrbmSystem)),\n",
    "                               list(id = 'mrl',\n",
    "                                    data = list_parse2(dMrl)),\n",
    "                               list(id = 'naval ship',\n",
    "                                    data = list_parse2(dNavalShip)),\n",
    "                               list(id = 'special equipment',\n",
    "                                    data = list_parse2(dSpecialEquipment)),\n",
    "                               list(id = 'tank',\n",
    "                                    data = list_parse2(dTank)))) %>%\n",
    "    hc_tooltip(pointFormat = tt,\n",
    "               useHTML = TRUE) %>%\n",
    "    hc_colors(colors) %>%\n",
    "    hc_add_theme(hc_theme_elementary()) -> plot5\n",
    "\n",
    "# This is just a workaround to make the kaggle kernel show the plot correctly\n",
    "htmlwidgets::saveWidget(plot5, 'plot5.html')\n",
    "IRdisplay::display_html('<iframe src=\"plot5.html\" width=100% height=700></iframe>')"
   ]
  },
  {
   "cell_type": "markdown",
   "id": "708b4bf0",
   "metadata": {
    "papermill": {
     "duration": 0.21361,
     "end_time": "2022-08-07T20:43:06.737064",
     "exception": false,
     "start_time": "2022-08-07T20:43:06.523454",
     "status": "completed"
    },
    "tags": []
   },
   "source": [
    "<a id=\"correlationMap\"></a>\n",
    "\n",
    "<h2 style=\"font-family: Verdana; color:#56a0d3\">Correlation Map</h2>"
   ]
  },
  {
   "cell_type": "code",
   "execution_count": 30,
   "id": "05abadc6",
   "metadata": {
    "_kg_hide-input": true,
    "execution": {
     "iopub.execute_input": "2022-08-07T20:43:07.166520Z",
     "iopub.status.busy": "2022-08-07T20:43:07.164388Z",
     "iopub.status.idle": "2022-08-07T20:43:07.200540Z",
     "shell.execute_reply": "2022-08-07T20:43:07.194254Z"
    },
    "papermill": {
     "duration": 0.253683,
     "end_time": "2022-08-07T20:43:07.200732",
     "exception": false,
     "start_time": "2022-08-07T20:43:06.947049",
     "status": "completed"
    },
    "tags": []
   },
   "outputs": [],
   "source": [
    "# Correlation\n",
    "amountRussianLostEquipmentDay %>%\n",
    "    select(-date) %>%\n",
    "    mutate_all(~replace(., is.na(.), 0)) ->  testCor\n",
    "\n",
    "colnames(testCor) <- gsub('.{11}$',' ', colnames(testCor))\n",
    "colnames(testCor) <- gsub(\" \", \"\", colnames(testCor))"
   ]
  },
  {
   "cell_type": "code",
   "execution_count": 31,
   "id": "4dae0149",
   "metadata": {
    "_kg_hide-input": true,
    "execution": {
     "iopub.execute_input": "2022-08-07T20:43:07.634885Z",
     "iopub.status.busy": "2022-08-07T20:43:07.632764Z",
     "iopub.status.idle": "2022-08-07T20:43:08.035138Z",
     "shell.execute_reply": "2022-08-07T20:43:08.033578Z"
    },
    "papermill": {
     "duration": 0.619599,
     "end_time": "2022-08-07T20:43:08.035305",
     "exception": false,
     "start_time": "2022-08-07T20:43:07.415706",
     "status": "completed"
    },
    "tags": []
   },
   "outputs": [
    {
     "data": {
      "text/html": [
       "<iframe src=\"plot6.html\" width=100% height=700></iframe>"
      ]
     },
     "metadata": {},
     "output_type": "display_data"
    }
   ],
   "source": [
    "# Plot\n",
    "hchart(cor(testCor)) %>%\n",
    "  hc_plotOptions(series = list(boderWidth = 0,\n",
    "                               dataLabels = list(enabled = TRUE,\n",
    "                                                 format = \"{point.value:,.2f}\"))) %>%\n",
    "  hc_legend(enabled = FALSE) -> plot6\n",
    "\n",
    "# This is just a workaround to make the kaggle kernel show the plot correctly\n",
    "htmlwidgets::saveWidget(plot6, 'plot6.html')\n",
    "IRdisplay::display_html('<iframe src=\"plot6.html\" width=100% height=700></iframe>')"
   ]
  },
  {
   "cell_type": "markdown",
   "id": "8bb135b5",
   "metadata": {
    "papermill": {
     "duration": 0.215149,
     "end_time": "2022-08-07T20:43:08.465530",
     "exception": false,
     "start_time": "2022-08-07T20:43:08.250381",
     "status": "completed"
    },
    "tags": []
   },
   "source": [
    "\n",
    "\n",
    "<div class=\"alert alert-block alert-info\" style=\"font-size:14px; font-family:verdana; line-height: 1.7em;\">\n",
    "    📌 &nbsp; <center><strong>What is correlation?</strong></center><br>\n",
    "    \n",
    "Correlation is a statistical measure that expresses the extent to which two variables are linearly related (meaning they change together at a constant rate). It’s a common tool for describing simple relationships without making a statement about cause and effect.\n",
    "\n",
    "    <ul>\n",
    "        <li>The closer r is to zero, the weaker the linear relationship.</li>\n",
    "        <li>Positive r values indicate a positive correlation, where the values of both variables tend to increase together.</li>\n",
    "        <li>Negative r values indicate a negative correlation, where the values of one variable tend to increase when the values of the other variable decrease.</li>\n",
    "        <li>The values 1 and -1 both represent \"perfect\" correlations, positive and negative respectively. Two perfectly correlated variables change together at a fixed rate. We say they have a linear relationship; when plotted on a scatterplot, all data points can be connected with a straight line.</li>\n",
    "    </ul>\n",
    "</div>"
   ]
  },
  {
   "cell_type": "markdown",
   "id": "170db7b5",
   "metadata": {
    "papermill": {
     "duration": 0.214123,
     "end_time": "2022-08-07T20:43:08.894931",
     "exception": false,
     "start_time": "2022-08-07T20:43:08.680808",
     "status": "completed"
    },
    "tags": []
   },
   "source": [
    "<a id=\"russiaLossesPersonnel\"></a>\n",
    "\n",
    "<h2 style=\"font-family:Verdana; color:#56a0d3\">'Russia Losses Personnel'</h2>"
   ]
  },
  {
   "cell_type": "code",
   "execution_count": 32,
   "id": "11e303f2",
   "metadata": {
    "execution": {
     "iopub.execute_input": "2022-08-07T20:43:09.332661Z",
     "iopub.status.busy": "2022-08-07T20:43:09.331193Z",
     "iopub.status.idle": "2022-08-07T20:43:09.350602Z",
     "shell.execute_reply": "2022-08-07T20:43:09.349372Z"
    },
    "papermill": {
     "duration": 0.240049,
     "end_time": "2022-08-07T20:43:09.350888",
     "exception": false,
     "start_time": "2022-08-07T20:43:09.110839",
     "status": "completed"
    },
    "tags": []
   },
   "outputs": [
    {
     "name": "stdout",
     "output_type": "stream",
     "text": [
      "Rows: 164\n",
      "Columns: 5\n",
      "$ date       \u001b[3m\u001b[90m<chr>\u001b[39m\u001b[23m \"2022-02-25\", \"2022-02-26\", \"2022-02-27\", \"2022-02-28\", \"20…\n",
      "$ day        \u001b[3m\u001b[90m<int>\u001b[39m\u001b[23m 2, 3, 4, 5, 6, 7, 8, 9, 10, 11, 12, 13, 14, 15, 16, 17, 18,…\n",
      "$ personnel  \u001b[3m\u001b[90m<int>\u001b[39m\u001b[23m 2800, 4300, 4500, 5300, 5710, 5840, 9000, 9166, 10000, 1100…\n",
      "$ personnel. \u001b[3m\u001b[90m<chr>\u001b[39m\u001b[23m \"about\", \"about\", \"about\", \"about\", \"about\", \"about\", \"abou…\n",
      "$ POW        \u001b[3m\u001b[90m<dbl>\u001b[39m\u001b[23m 0, 0, 0, 0, 200, 200, 200, 200, 216, 232, 259, 284, 360, 37…\n"
     ]
    }
   ],
   "source": [
    "# Take a look\n",
    "glimpse(russiaLossesPersonnel)"
   ]
  },
  {
   "cell_type": "code",
   "execution_count": 33,
   "id": "c43fd172",
   "metadata": {
    "execution": {
     "iopub.execute_input": "2022-08-07T20:43:09.791177Z",
     "iopub.status.busy": "2022-08-07T20:43:09.789096Z",
     "iopub.status.idle": "2022-08-07T20:43:09.810818Z",
     "shell.execute_reply": "2022-08-07T20:43:09.808717Z"
    },
    "papermill": {
     "duration": 0.242441,
     "end_time": "2022-08-07T20:43:09.810998",
     "exception": false,
     "start_time": "2022-08-07T20:43:09.568557",
     "status": "completed"
    },
    "tags": []
   },
   "outputs": [
    {
     "data": {
      "text/html": [
       "<style>\n",
       ".list-inline {list-style: none; margin:0; padding: 0}\n",
       ".list-inline>li {display: inline-block}\n",
       ".list-inline>li:not(:last-child)::after {content: \"\\00b7\"; padding: 0 .5ex}\n",
       "</style>\n",
       "<ol class=list-inline><li>'date'</li><li>'day'</li><li>'personnel'</li><li>'personnel.'</li><li>'POW'</li></ol>\n"
      ],
      "text/latex": [
       "\\begin{enumerate*}\n",
       "\\item 'date'\n",
       "\\item 'day'\n",
       "\\item 'personnel'\n",
       "\\item 'personnel.'\n",
       "\\item 'POW'\n",
       "\\end{enumerate*}\n"
      ],
      "text/markdown": [
       "1. 'date'\n",
       "2. 'day'\n",
       "3. 'personnel'\n",
       "4. 'personnel.'\n",
       "5. 'POW'\n",
       "\n",
       "\n"
      ],
      "text/plain": [
       "[1] \"date\"       \"day\"        \"personnel\"  \"personnel.\" \"POW\"       "
      ]
     },
     "metadata": {},
     "output_type": "display_data"
    }
   ],
   "source": [
    "##Columns's names\n",
    "colnames(russiaLossesPersonnel)"
   ]
  },
  {
   "cell_type": "code",
   "execution_count": 34,
   "id": "591bdcc2",
   "metadata": {
    "execution": {
     "iopub.execute_input": "2022-08-07T20:43:10.257820Z",
     "iopub.status.busy": "2022-08-07T20:43:10.255845Z",
     "iopub.status.idle": "2022-08-07T20:43:10.276170Z",
     "shell.execute_reply": "2022-08-07T20:43:10.274485Z"
    },
    "papermill": {
     "duration": 0.245153,
     "end_time": "2022-08-07T20:43:10.276321",
     "exception": false,
     "start_time": "2022-08-07T20:43:10.031168",
     "status": "completed"
    },
    "tags": []
   },
   "outputs": [
    {
     "data": {
      "text/plain": [
       "     date                day           personnel      personnel.       \n",
       " Length:164         Min.   :  2.00   Min.   : 2800   Length:164        \n",
       " Class :character   1st Qu.: 42.75   1st Qu.:18825   Class :character  \n",
       " Mode  :character   Median : 83.50   Median :28100   Mode  :character  \n",
       "                    Mean   : 83.50   Mean   :26512                     \n",
       "                    3rd Qu.:124.25   3rd Qu.:35062                     \n",
       "                    Max.   :165.00   Max.   :42200                     \n",
       "                                                                       \n",
       "      POW       \n",
       " Min.   :  0.0  \n",
       " 1st Qu.:389.0  \n",
       " Median :421.0  \n",
       " Mean   :386.4  \n",
       " 3rd Qu.:474.5  \n",
       " Max.   :496.0  \n",
       " NA's   :102    "
      ]
     },
     "metadata": {},
     "output_type": "display_data"
    }
   ],
   "source": [
    "# Summary\n",
    "summary(russiaLossesPersonnel)"
   ]
  },
  {
   "cell_type": "markdown",
   "id": "4e9f0698",
   "metadata": {
    "papermill": {
     "duration": 0.222006,
     "end_time": "2022-08-07T20:43:10.720146",
     "exception": false,
     "start_time": "2022-08-07T20:43:10.498140",
     "status": "completed"
    },
    "tags": []
   },
   "source": [
    "<a id=\"annotationsRussiaLossesPersonnel\"></a>\n",
    "\n",
    "<div style=\"font-family: Verdana;\">\n",
    "    <h2 style=\"color:#56a0d3\">Annotations</h2>   \n",
    "    <strong>In russiaLossesPersonnel's dataset:</strong>\n",
    "    \n",
    "    <ul>\n",
    "        <li>Modify in <code>date</code> column the format type (chr -> date),</li>\n",
    "    \n",
    "        <li>'Clean' column's name,</li>    \n",
    "    </ul>\n",
    "</div> "
   ]
  },
  {
   "cell_type": "markdown",
   "id": "74ebc5aa",
   "metadata": {
    "papermill": {
     "duration": 0.223879,
     "end_time": "2022-08-07T20:43:11.164324",
     "exception": false,
     "start_time": "2022-08-07T20:43:10.940445",
     "status": "completed"
    },
    "tags": []
   },
   "source": [
    "<h3 style=\"font-family: Verdana;\">> Clean</h3>"
   ]
  },
  {
   "cell_type": "code",
   "execution_count": 35,
   "id": "74681a46",
   "metadata": {
    "execution": {
     "iopub.execute_input": "2022-08-07T20:43:11.609047Z",
     "iopub.status.busy": "2022-08-07T20:43:11.608073Z",
     "iopub.status.idle": "2022-08-07T20:43:11.631215Z",
     "shell.execute_reply": "2022-08-07T20:43:11.629729Z"
    },
    "papermill": {
     "duration": 0.248576,
     "end_time": "2022-08-07T20:43:11.631375",
     "exception": false,
     "start_time": "2022-08-07T20:43:11.382799",
     "status": "completed"
    },
    "tags": []
   },
   "outputs": [],
   "source": [
    "# Clean columns names\n",
    "russiaLossesPersonnel.clean <- russiaLossesPersonnel %>%\n",
    "  clean_names()"
   ]
  },
  {
   "cell_type": "markdown",
   "id": "384f3078",
   "metadata": {
    "papermill": {
     "duration": 0.220941,
     "end_time": "2022-08-07T20:43:12.073657",
     "exception": false,
     "start_time": "2022-08-07T20:43:11.852716",
     "status": "completed"
    },
    "tags": []
   },
   "source": [
    "<h3 style=\"font-family: Verdana;\">> Any duplicated value or NA !?</h3>"
   ]
  },
  {
   "cell_type": "code",
   "execution_count": 36,
   "id": "8bb436c4",
   "metadata": {
    "execution": {
     "iopub.execute_input": "2022-08-07T20:43:12.537383Z",
     "iopub.status.busy": "2022-08-07T20:43:12.535783Z",
     "iopub.status.idle": "2022-08-07T20:43:12.560159Z",
     "shell.execute_reply": "2022-08-07T20:43:12.558438Z"
    },
    "papermill": {
     "duration": 0.269638,
     "end_time": "2022-08-07T20:43:12.560313",
     "exception": false,
     "start_time": "2022-08-07T20:43:12.290675",
     "status": "completed"
    },
    "tags": []
   },
   "outputs": [
    {
     "data": {
      "text/html": [
       "0"
      ],
      "text/latex": [
       "0"
      ],
      "text/markdown": [
       "0"
      ],
      "text/plain": [
       "[1] 0"
      ]
     },
     "metadata": {},
     "output_type": "display_data"
    },
    {
     "data": {
      "text/html": [
       "102"
      ],
      "text/latex": [
       "102"
      ],
      "text/markdown": [
       "102"
      ],
      "text/plain": [
       "[1] 102"
      ]
     },
     "metadata": {},
     "output_type": "display_data"
    }
   ],
   "source": [
    "## Any duplicated or NA !?\n",
    "anyDuplicated(russiaLossesPersonnel.clean)\n",
    "sum(is.na(russiaLossesPersonnel.clean))"
   ]
  },
  {
   "cell_type": "markdown",
   "id": "d68a28a4",
   "metadata": {
    "papermill": {
     "duration": 0.223613,
     "end_time": "2022-08-07T20:43:13.008483",
     "exception": false,
     "start_time": "2022-08-07T20:43:12.784870",
     "status": "completed"
    },
    "tags": []
   },
   "source": [
    "<a id=\"plotDeadRussianSoldiers\"></a>\n",
    "\n",
    "<h2 style=\"font-family: Verdana; color:#56a0d3\">Plot: Dead russian soldiers</h2>"
   ]
  },
  {
   "cell_type": "code",
   "execution_count": 37,
   "id": "81d3e589",
   "metadata": {
    "_kg_hide-input": true,
    "execution": {
     "iopub.execute_input": "2022-08-07T20:43:13.463759Z",
     "iopub.status.busy": "2022-08-07T20:43:13.462050Z",
     "iopub.status.idle": "2022-08-07T20:43:13.882406Z",
     "shell.execute_reply": "2022-08-07T20:43:13.880927Z"
    },
    "papermill": {
     "duration": 0.649565,
     "end_time": "2022-08-07T20:43:13.882567",
     "exception": false,
     "start_time": "2022-08-07T20:43:13.233002",
     "status": "completed"
    },
    "tags": []
   },
   "outputs": [
    {
     "data": {
      "text/html": [
       "<iframe src=\"plot7.html\" width=100% height=600></iframe>"
      ]
     },
     "metadata": {},
     "output_type": "display_data"
    }
   ],
   "source": [
    "# Plot\n",
    "russiaLossesPersonnel.clean %>%\n",
    "  hchart('line',\n",
    "         name = 'Losses',\n",
    "         hcaes(x = date,\n",
    "               y = personnel)) %>%\n",
    "  hc_colors('#da291c') %>%\n",
    "  hc_title(text = 'Dead russian soldiers') %>%\n",
    "  hc_subtitle(text = 'How many dead soldiers has Russia registered each day?') %>%\n",
    "  hc_xAxis(title = list(text = 'Date')) %>%\n",
    "  hc_yAxis(title = list(text = 'Total')) %>%\n",
    "  hc_add_theme(hc_theme_elementary()) -> plot7\n",
    "\n",
    "# This is just a workaround to make the kaggle kernel show the plot correctly\n",
    "htmlwidgets::saveWidget(plot7, 'plot7.html')\n",
    "IRdisplay::display_html('<iframe src=\"plot7.html\" width=100% height=600></iframe>')"
   ]
  },
  {
   "cell_type": "markdown",
   "id": "ce81127f",
   "metadata": {
    "papermill": {
     "duration": 0.225638,
     "end_time": "2022-08-07T20:43:14.334428",
     "exception": false,
     "start_time": "2022-08-07T20:43:14.108790",
     "status": "completed"
    },
    "tags": []
   },
   "source": [
    "<div class=\"alert alert-block alert-info\" style=\"font-size:14px; font-family:verdana; line-height: 1.7em; text-align: center;\">\n",
    "    📌 &nbsp; Important. Each new record is accumulated data from previous days.\n",
    "</div>"
   ]
  },
  {
   "cell_type": "markdown",
   "id": "7d09f9df",
   "metadata": {
    "papermill": {
     "duration": 0.225668,
     "end_time": "2022-08-07T20:43:14.786911",
     "exception": false,
     "start_time": "2022-08-07T20:43:14.561243",
     "status": "completed"
    },
    "tags": []
   },
   "source": [
    "<h3 style=\"font-family: Verdana;\">> Lost personal by day</h3>"
   ]
  },
  {
   "cell_type": "code",
   "execution_count": 38,
   "id": "e03f12fc",
   "metadata": {
    "_kg_hide-input": true,
    "execution": {
     "iopub.execute_input": "2022-08-07T20:43:15.248092Z",
     "iopub.status.busy": "2022-08-07T20:43:15.246604Z",
     "iopub.status.idle": "2022-08-07T20:43:15.270359Z",
     "shell.execute_reply": "2022-08-07T20:43:15.269677Z"
    },
    "papermill": {
     "duration": 0.256796,
     "end_time": "2022-08-07T20:43:15.270514",
     "exception": false,
     "start_time": "2022-08-07T20:43:15.013718",
     "status": "completed"
    },
    "tags": []
   },
   "outputs": [],
   "source": [
    "# Lost personal by day\n",
    "totalRussianLostPersonalDay <- russiaLossesPersonnel.clean %>%\n",
    "  mutate(personnel_difference = personnel - lag(personnel,\n",
    "                                                default = first(personnel)),\n",
    "         pow_difference = pow - lag(pow,\n",
    "                                    default = first(pow))) %>%\n",
    "  mutate(personnel_difference = case_when(row_number() == 1 ~ first(personnel),\n",
    "                                          TRUE ~ personnel_difference),\n",
    "         pow_difference = case_when(row_number() == 1 ~ first(pow),\n",
    "                                    TRUE ~ pow_difference)) %>%\n",
    "  select(date,\n",
    "         day,\n",
    "         personnel,\n",
    "         personnel_difference,\n",
    "         everything())"
   ]
  },
  {
   "cell_type": "markdown",
   "id": "ae3523a9",
   "metadata": {
    "papermill": {
     "duration": 0.228275,
     "end_time": "2022-08-07T20:43:15.724294",
     "exception": false,
     "start_time": "2022-08-07T20:43:15.496019",
     "status": "completed"
    },
    "tags": []
   },
   "source": [
    "<a id=\"annotationsRussiaLossesPersonnelDay\"></a>\n",
    "\n",
    "<h2 style=\"font-family: Verdana; color:#56a0d3\">Plot: Missing Russian personnel by day</h2>"
   ]
  },
  {
   "cell_type": "code",
   "execution_count": 39,
   "id": "7c6a5efc",
   "metadata": {
    "_kg_hide-input": true,
    "execution": {
     "iopub.execute_input": "2022-08-07T20:43:16.183465Z",
     "iopub.status.busy": "2022-08-07T20:43:16.181977Z",
     "iopub.status.idle": "2022-08-07T20:43:16.640437Z",
     "shell.execute_reply": "2022-08-07T20:43:16.639017Z"
    },
    "papermill": {
     "duration": 0.687334,
     "end_time": "2022-08-07T20:43:16.640593",
     "exception": false,
     "start_time": "2022-08-07T20:43:15.953259",
     "status": "completed"
    },
    "tags": []
   },
   "outputs": [
    {
     "data": {
      "text/html": [
       "<iframe src=\"plot8.html\" width=100% height=700></iframe>"
      ]
     },
     "metadata": {},
     "output_type": "display_data"
    }
   ],
   "source": [
    "# Plot\n",
    "totalRussianLostPersonalDay %>%\n",
    "  hchart('column',\n",
    "         name = 'Losses',\n",
    "         hcaes(x = date,\n",
    "               y = personnel_difference)) %>%\n",
    "  hc_colors('#da291c') %>%\n",
    "  hc_title(text = 'Missing Russian personnel') %>%\n",
    "  hc_subtitle(text = 'How many dead soldiers has Russia registered each day?') %>%\n",
    "  hc_plotOptions(series = list(boderWidth = 2,\n",
    "                               dataLabels = list(enabled = TRUE))) %>%\n",
    "  hc_xAxis(title = list(text = 'Date')) %>%\n",
    "  hc_yAxis(title = list(text = 'Total')) %>%\n",
    "  hc_add_theme(hc_theme_elementary()) -> plot8\n",
    "\n",
    "# This is just a workaround to make the kaggle kernel show the plot correctly\n",
    "htmlwidgets::saveWidget(plot8, 'plot8.html')\n",
    "IRdisplay::display_html('<iframe src=\"plot8.html\" width=100% height=700></iframe>')"
   ]
  },
  {
   "cell_type": "markdown",
   "id": "7c391592",
   "metadata": {
    "papermill": {
     "duration": 0.227815,
     "end_time": "2022-08-07T20:43:17.094366",
     "exception": false,
     "start_time": "2022-08-07T20:43:16.866551",
     "status": "completed"
    },
    "tags": []
   },
   "source": [
    "<a id=\"plotPOW\"></a>\n",
    "\n",
    "<h2 style=\"font-family: Verdana; color:#56a0d3\">Plot: POW</h2>"
   ]
  },
  {
   "cell_type": "code",
   "execution_count": 40,
   "id": "2c52bccf",
   "metadata": {
    "_kg_hide-input": true,
    "execution": {
     "iopub.execute_input": "2022-08-07T20:43:17.557538Z",
     "iopub.status.busy": "2022-08-07T20:43:17.555511Z",
     "iopub.status.idle": "2022-08-07T20:43:17.973316Z",
     "shell.execute_reply": "2022-08-07T20:43:17.971490Z"
    },
    "papermill": {
     "duration": 0.652281,
     "end_time": "2022-08-07T20:43:17.973470",
     "exception": false,
     "start_time": "2022-08-07T20:43:17.321189",
     "status": "completed"
    },
    "tags": []
   },
   "outputs": [
    {
     "data": {
      "text/html": [
       "<iframe src=\"plot9.html\" width=100% height=600></iframe>"
      ]
     },
     "metadata": {},
     "output_type": "display_data"
    }
   ],
   "source": [
    "# POW Plot\n",
    "russiaLossesPersonnel.clean %>%\n",
    "  hchart('line',\n",
    "         name = 'Losses',\n",
    "         hcaes(x = date,\n",
    "               y = pow)) %>%\n",
    "  hc_colors('#da291c') %>%\n",
    "  hc_title(text = 'Russian prisoners of war') %>%\n",
    "  hc_subtitle(text = 'How many prisoners of war has Russia registered each day?') %>%\n",
    "  hc_xAxis(title = list(text = 'Date')) %>%\n",
    "  hc_yAxis(title = list(text = 'Total')) %>%\n",
    "  hc_add_theme(hc_theme_elementary()) -> plot9\n",
    "\n",
    "# This is just a workaround to make the kaggle kernel show the plot correctly\n",
    "htmlwidgets::saveWidget(plot9, 'plot9.html')\n",
    "IRdisplay::display_html('<iframe src=\"plot9.html\" width=100% height=600></iframe>')"
   ]
  },
  {
   "cell_type": "markdown",
   "id": "b8b3655e",
   "metadata": {
    "papermill": {
     "duration": 0.227933,
     "end_time": "2022-08-07T20:43:18.428402",
     "exception": false,
     "start_time": "2022-08-07T20:43:18.200469",
     "status": "completed"
    },
    "tags": []
   },
   "source": [
    "<div class=\"alert alert-block alert-info\" style=\"font-size:14px; font-family:verdana; line-height: 1.7em; text-align: center;\">\n",
    "    📌 &nbsp; Important. Each new record is accumulated data from previous days.\n",
    "</div>"
   ]
  },
  {
   "cell_type": "markdown",
   "id": "02b8f86a",
   "metadata": {
    "papermill": {
     "duration": 0.229033,
     "end_time": "2022-08-07T20:43:18.886582",
     "exception": false,
     "start_time": "2022-08-07T20:43:18.657549",
     "status": "completed"
    },
    "tags": []
   },
   "source": [
    "<a id=\"plotPOWDay\"></a>\n",
    "\n",
    "<h2 style=\"font-family: Verdana; color:#56a0d3\">Plot: POW by day</h2>"
   ]
  },
  {
   "cell_type": "code",
   "execution_count": 41,
   "id": "a0c6e271",
   "metadata": {
    "_kg_hide-input": true,
    "execution": {
     "iopub.execute_input": "2022-08-07T20:43:19.350412Z",
     "iopub.status.busy": "2022-08-07T20:43:19.349670Z",
     "iopub.status.idle": "2022-08-07T20:43:19.810641Z",
     "shell.execute_reply": "2022-08-07T20:43:19.809224Z"
    },
    "papermill": {
     "duration": 0.695772,
     "end_time": "2022-08-07T20:43:19.810873",
     "exception": false,
     "start_time": "2022-08-07T20:43:19.115101",
     "status": "completed"
    },
    "tags": []
   },
   "outputs": [
    {
     "data": {
      "text/html": [
       "<iframe src=\"plot10.html\" width=100% height=700></iframe>"
      ]
     },
     "metadata": {},
     "output_type": "display_data"
    }
   ],
   "source": [
    "# Plot: total POW per day\n",
    "totalRussianLostPersonalDay %>%\n",
    "  hchart('column',\n",
    "         name = 'Losses',\n",
    "         hcaes(x = date,\n",
    "               y = pow_difference)) %>%\n",
    "  hc_colors('#da291c') %>%\n",
    "  hc_title(text = 'Russian prisoners of war') %>%\n",
    "  hc_subtitle(text = 'How many prisoners of war has Russia registered each day?') %>%\n",
    "  hc_plotOptions(series = list(boderWidth = 2,\n",
    "                               dataLabels = list(enabled = TRUE))) %>%\n",
    "  hc_xAxis(title = list(text = 'Date')) %>%\n",
    "  hc_yAxis(title = list(text = 'Total')) %>%\n",
    "  hc_add_theme(hc_theme_elementary()) -> plot10\n",
    "\n",
    "# This is just a workaround to make the kaggle kernel show the plot correctly\n",
    "htmlwidgets::saveWidget(plot10, 'plot10.html')\n",
    "IRdisplay::display_html('<iframe src=\"plot10.html\" width=100% height=700></iframe>')"
   ]
  },
  {
   "cell_type": "markdown",
   "id": "a04f7cc1",
   "metadata": {
    "papermill": {
     "duration": 0.231431,
     "end_time": "2022-08-07T20:43:20.274579",
     "exception": false,
     "start_time": "2022-08-07T20:43:20.043148",
     "status": "completed"
    },
    "tags": []
   },
   "source": [
    "<h3 style=\"font-family: Verdana;\">> Table: Total POW and Perssonal lost</h3>"
   ]
  },
  {
   "cell_type": "code",
   "execution_count": 42,
   "id": "8a552b6a",
   "metadata": {
    "_kg_hide-input": true,
    "execution": {
     "iopub.execute_input": "2022-08-07T20:43:20.742558Z",
     "iopub.status.busy": "2022-08-07T20:43:20.740516Z",
     "iopub.status.idle": "2022-08-07T20:43:20.762667Z",
     "shell.execute_reply": "2022-08-07T20:43:20.761206Z"
    },
    "papermill": {
     "duration": 0.25776,
     "end_time": "2022-08-07T20:43:20.762842",
     "exception": false,
     "start_time": "2022-08-07T20:43:20.505082",
     "status": "completed"
    },
    "tags": []
   },
   "outputs": [
    {
     "data": {
      "text/html": [
       "<table class=\"dataframe\">\n",
       "<caption>A tibble: 1 × 2</caption>\n",
       "<thead>\n",
       "\t<tr><th scope=col>total_personnel_lost</th><th scope=col>total_pow</th></tr>\n",
       "\t<tr><th scope=col>&lt;int&gt;</th><th scope=col>&lt;dbl&gt;</th></tr>\n",
       "</thead>\n",
       "<tbody>\n",
       "\t<tr><td>42200</td><td>NA</td></tr>\n",
       "</tbody>\n",
       "</table>\n"
      ],
      "text/latex": [
       "A tibble: 1 × 2\n",
       "\\begin{tabular}{ll}\n",
       " total\\_personnel\\_lost & total\\_pow\\\\\n",
       " <int> & <dbl>\\\\\n",
       "\\hline\n",
       "\t 42200 & NA\\\\\n",
       "\\end{tabular}\n"
      ],
      "text/markdown": [
       "\n",
       "A tibble: 1 × 2\n",
       "\n",
       "| total_personnel_lost &lt;int&gt; | total_pow &lt;dbl&gt; |\n",
       "|---|---|\n",
       "| 42200 | NA |\n",
       "\n"
      ],
      "text/plain": [
       "  total_personnel_lost total_pow\n",
       "1 42200                NA       "
      ]
     },
     "metadata": {},
     "output_type": "display_data"
    }
   ],
   "source": [
    "# Total missing personal and total POW\n",
    "totalMissingPersonnelAndPow = tibble(total_personnel_lost = sum(totalRussianLostPersonalDay$personnel_difference),\n",
    "                                     total_pow = sum(totalRussianLostPersonalDay$pow_difference)) %>%\n",
    "View()"
   ]
  },
  {
   "cell_type": "markdown",
   "id": "3be2befe",
   "metadata": {
    "papermill": {
     "duration": 0.236278,
     "end_time": "2022-08-07T20:43:21.232523",
     "exception": false,
     "start_time": "2022-08-07T20:43:20.996245",
     "status": "completed"
    },
    "tags": []
   },
   "source": [
    "<a id=\"tableMinMax\"></a>\n",
    "\n",
    "<h3 style=\"font-family: Verdana;\">> Table: MAX and MIN values with dates</h3>"
   ]
  },
  {
   "cell_type": "code",
   "execution_count": 43,
   "id": "161cc47e",
   "metadata": {
    "execution": {
     "iopub.execute_input": "2022-08-07T20:43:21.702568Z",
     "iopub.status.busy": "2022-08-07T20:43:21.701077Z",
     "iopub.status.idle": "2022-08-07T20:43:21.730256Z",
     "shell.execute_reply": "2022-08-07T20:43:21.728971Z"
    },
    "papermill": {
     "duration": 0.264488,
     "end_time": "2022-08-07T20:43:21.730412",
     "exception": false,
     "start_time": "2022-08-07T20:43:21.465924",
     "status": "completed"
    },
    "tags": []
   },
   "outputs": [
    {
     "data": {
      "text/html": [
       "<table class=\"dataframe\">\n",
       "<caption>A data.frame: 1 × 2</caption>\n",
       "<thead>\n",
       "\t<tr><th scope=col>date</th><th scope=col>personnel</th></tr>\n",
       "\t<tr><th scope=col>&lt;chr&gt;</th><th scope=col>&lt;int&gt;</th></tr>\n",
       "</thead>\n",
       "<tbody>\n",
       "\t<tr><td>2022-03-03</td><td>3160</td></tr>\n",
       "</tbody>\n",
       "</table>\n"
      ],
      "text/latex": [
       "A data.frame: 1 × 2\n",
       "\\begin{tabular}{ll}\n",
       " date & personnel\\\\\n",
       " <chr> & <int>\\\\\n",
       "\\hline\n",
       "\t 2022-03-03 & 3160\\\\\n",
       "\\end{tabular}\n"
      ],
      "text/markdown": [
       "\n",
       "A data.frame: 1 × 2\n",
       "\n",
       "| date &lt;chr&gt; | personnel &lt;int&gt; |\n",
       "|---|---|\n",
       "| 2022-03-03 | 3160 |\n",
       "\n"
      ],
      "text/plain": [
       "  date       personnel\n",
       "1 2022-03-03 3160     "
      ]
     },
     "metadata": {},
     "output_type": "display_data"
    }
   ],
   "source": [
    "# MAX russian soldier deaths registered\n",
    "totalRussianLostPersonalDay %>%\n",
    "  slice(which.max(personnel_difference)) %>%\n",
    "  ungroup() %>%\n",
    "  select(date,\n",
    "         personnel = personnel_difference) %>%\n",
    "  View()"
   ]
  },
  {
   "cell_type": "code",
   "execution_count": 44,
   "id": "305b23cd",
   "metadata": {
    "execution": {
     "iopub.execute_input": "2022-08-07T20:43:22.208265Z",
     "iopub.status.busy": "2022-08-07T20:43:22.206928Z",
     "iopub.status.idle": "2022-08-07T20:43:22.230227Z",
     "shell.execute_reply": "2022-08-07T20:43:22.228762Z"
    },
    "papermill": {
     "duration": 0.264363,
     "end_time": "2022-08-07T20:43:22.230385",
     "exception": false,
     "start_time": "2022-08-07T20:43:21.966022",
     "status": "completed"
    },
    "tags": []
   },
   "outputs": [
    {
     "data": {
      "text/html": [
       "<table class=\"dataframe\">\n",
       "<caption>A data.frame: 1 × 2</caption>\n",
       "<thead>\n",
       "\t<tr><th scope=col>date</th><th scope=col>personnel</th></tr>\n",
       "\t<tr><th scope=col>&lt;chr&gt;</th><th scope=col>&lt;int&gt;</th></tr>\n",
       "</thead>\n",
       "<tbody>\n",
       "\t<tr><td>2022-03-07</td><td>0</td></tr>\n",
       "</tbody>\n",
       "</table>\n"
      ],
      "text/latex": [
       "A data.frame: 1 × 2\n",
       "\\begin{tabular}{ll}\n",
       " date & personnel\\\\\n",
       " <chr> & <int>\\\\\n",
       "\\hline\n",
       "\t 2022-03-07 & 0\\\\\n",
       "\\end{tabular}\n"
      ],
      "text/markdown": [
       "\n",
       "A data.frame: 1 × 2\n",
       "\n",
       "| date &lt;chr&gt; | personnel &lt;int&gt; |\n",
       "|---|---|\n",
       "| 2022-03-07 | 0 |\n",
       "\n"
      ],
      "text/plain": [
       "  date       personnel\n",
       "1 2022-03-07 0        "
      ]
     },
     "metadata": {},
     "output_type": "display_data"
    }
   ],
   "source": [
    "# MIN russian soldier deaths registered \n",
    "totalRussianLostPersonalDay %>%\n",
    "  slice(which.min(personnel_difference)) %>%\n",
    "  ungroup() %>%\n",
    "  select(date,\n",
    "         personnel = personnel_difference) %>%\n",
    "  View()"
   ]
  },
  {
   "cell_type": "markdown",
   "id": "b62b7358",
   "metadata": {
    "papermill": {
     "duration": 0.258502,
     "end_time": "2022-08-07T20:43:22.743454",
     "exception": false,
     "start_time": "2022-08-07T20:43:22.484952",
     "status": "completed"
    },
    "tags": []
   },
   "source": [
    "***"
   ]
  },
  {
   "cell_type": "code",
   "execution_count": 45,
   "id": "e5388582",
   "metadata": {
    "execution": {
     "iopub.execute_input": "2022-08-07T20:43:23.236544Z",
     "iopub.status.busy": "2022-08-07T20:43:23.233737Z",
     "iopub.status.idle": "2022-08-07T20:43:23.260345Z",
     "shell.execute_reply": "2022-08-07T20:43:23.258873Z"
    },
    "papermill": {
     "duration": 0.273351,
     "end_time": "2022-08-07T20:43:23.260496",
     "exception": false,
     "start_time": "2022-08-07T20:43:22.987145",
     "status": "completed"
    },
    "tags": []
   },
   "outputs": [
    {
     "data": {
      "text/html": [
       "<table class=\"dataframe\">\n",
       "<caption>A data.frame: 1 × 2</caption>\n",
       "<thead>\n",
       "\t<tr><th scope=col>date</th><th scope=col>pow</th></tr>\n",
       "\t<tr><th scope=col>&lt;chr&gt;</th><th scope=col>&lt;dbl&gt;</th></tr>\n",
       "</thead>\n",
       "<tbody>\n",
       "\t<tr><td>2022-03-01</td><td>200</td></tr>\n",
       "</tbody>\n",
       "</table>\n"
      ],
      "text/latex": [
       "A data.frame: 1 × 2\n",
       "\\begin{tabular}{ll}\n",
       " date & pow\\\\\n",
       " <chr> & <dbl>\\\\\n",
       "\\hline\n",
       "\t 2022-03-01 & 200\\\\\n",
       "\\end{tabular}\n"
      ],
      "text/markdown": [
       "\n",
       "A data.frame: 1 × 2\n",
       "\n",
       "| date &lt;chr&gt; | pow &lt;dbl&gt; |\n",
       "|---|---|\n",
       "| 2022-03-01 | 200 |\n",
       "\n"
      ],
      "text/plain": [
       "  date       pow\n",
       "1 2022-03-01 200"
      ]
     },
     "metadata": {},
     "output_type": "display_data"
    }
   ],
   "source": [
    "# MAX russian POW registered\n",
    "totalRussianLostPersonalDay %>%\n",
    "  slice(which.max(pow_difference)) %>%\n",
    "  ungroup() %>%\n",
    "  select(date,\n",
    "         pow = pow_difference) %>%\n",
    "  View()"
   ]
  },
  {
   "cell_type": "code",
   "execution_count": 46,
   "id": "9006a02e",
   "metadata": {
    "execution": {
     "iopub.execute_input": "2022-08-07T20:43:23.794679Z",
     "iopub.status.busy": "2022-08-07T20:43:23.793080Z",
     "iopub.status.idle": "2022-08-07T20:43:23.820064Z",
     "shell.execute_reply": "2022-08-07T20:43:23.818638Z"
    },
    "papermill": {
     "duration": 0.289991,
     "end_time": "2022-08-07T20:43:23.820233",
     "exception": false,
     "start_time": "2022-08-07T20:43:23.530242",
     "status": "completed"
    },
    "tags": []
   },
   "outputs": [
    {
     "data": {
      "text/html": [
       "<table class=\"dataframe\">\n",
       "<caption>A data.frame: 1 × 2</caption>\n",
       "<thead>\n",
       "\t<tr><th scope=col>date</th><th scope=col>pow</th></tr>\n",
       "\t<tr><th scope=col>&lt;chr&gt;</th><th scope=col>&lt;dbl&gt;</th></tr>\n",
       "</thead>\n",
       "<tbody>\n",
       "\t<tr><td>2022-02-25</td><td>0</td></tr>\n",
       "</tbody>\n",
       "</table>\n"
      ],
      "text/latex": [
       "A data.frame: 1 × 2\n",
       "\\begin{tabular}{ll}\n",
       " date & pow\\\\\n",
       " <chr> & <dbl>\\\\\n",
       "\\hline\n",
       "\t 2022-02-25 & 0\\\\\n",
       "\\end{tabular}\n"
      ],
      "text/markdown": [
       "\n",
       "A data.frame: 1 × 2\n",
       "\n",
       "| date &lt;chr&gt; | pow &lt;dbl&gt; |\n",
       "|---|---|\n",
       "| 2022-02-25 | 0 |\n",
       "\n"
      ],
      "text/plain": [
       "  date       pow\n",
       "1 2022-02-25 0  "
      ]
     },
     "metadata": {},
     "output_type": "display_data"
    }
   ],
   "source": [
    "# MIN russian POW registered\n",
    "totalRussianLostPersonalDay %>%\n",
    "  slice(which.min(pow_difference)) %>%\n",
    "  ungroup() %>%\n",
    "  select(date,\n",
    "         pow = pow_difference) %>%\n",
    "  View()"
   ]
  },
  {
   "cell_type": "markdown",
   "id": "6e0c41de",
   "metadata": {
    "papermill": {
     "duration": 0.256988,
     "end_time": "2022-08-07T20:43:24.332857",
     "exception": false,
     "start_time": "2022-08-07T20:43:24.075869",
     "status": "completed"
    },
    "tags": []
   },
   "source": [
    "---\n",
    "\n",
    "<p>\n",
    "    <center style=\"color:#159364; font-family:cursive;\">\n",
    "        I thank you for reading my work and I hope you enjoyed them.<br>\n",
    "        If you think that my analysis was not correct or otherwise I will be reading them in the comments.\n",
    "    </center>\n",
    "</p>\n",
    "\n",
    "---"
   ]
  }
 ],
 "metadata": {
  "kernelspec": {
   "display_name": "R",
   "language": "R",
   "name": "ir"
  },
  "language_info": {
   "codemirror_mode": "r",
   "file_extension": ".r",
   "mimetype": "text/x-r-source",
   "name": "R",
   "pygments_lexer": "r",
   "version": "4.0.5"
  },
  "papermill": {
   "default_parameters": {},
   "duration": 56.533301,
   "end_time": "2022-08-07T20:43:24.701001",
   "environment_variables": {},
   "exception": null,
   "input_path": "__notebook__.ipynb",
   "output_path": "__notebook__.ipynb",
   "parameters": {},
   "start_time": "2022-08-07T20:42:28.167700",
   "version": "2.3.3"
  }
 },
 "nbformat": 4,
 "nbformat_minor": 5
}
